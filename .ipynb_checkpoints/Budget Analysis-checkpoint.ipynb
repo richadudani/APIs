{
 "cells": [
  {
   "cell_type": "markdown",
   "metadata": {},
   "source": [
    "# Budget Analysis\n",
    "\n",
    "---\n",
    "\n",
    "## Environment Setup"
   ]
  },
  {
   "cell_type": "code",
   "execution_count": 25,
   "metadata": {},
   "outputs": [],
   "source": [
    "# Initial Imports\n",
    "import os\n",
    "import plaid\n",
    "import requests\n",
    "import datetime\n",
    "import json\n",
    "import pandas as pd\n",
    "from dotenv import load_dotenv\n",
    "\n",
    "%matplotlib inline"
   ]
  },
  {
   "cell_type": "code",
   "execution_count": 26,
   "metadata": {},
   "outputs": [],
   "source": [
    "# Helper functions\n",
    "\n",
    "def pretty_print_response(response):\n",
    "    \"\"\"\n",
    "    This function formats a JSON file to pretty printing it in the screen.\n",
    "    \"\"\"\n",
    "    print(json.dumps(response, indent=4, sort_keys=True))"
   ]
  },
  {
   "cell_type": "code",
   "execution_count": 27,
   "metadata": {},
   "outputs": [
    {
     "data": {
      "text/plain": [
       "True"
      ]
     },
     "execution_count": 27,
     "metadata": {},
     "output_type": "execute_result"
    }
   ],
   "source": [
    "# Set environment variables from the .env file\n",
    "load_dotenv()"
   ]
  },
  {
   "cell_type": "code",
   "execution_count": 28,
   "metadata": {},
   "outputs": [],
   "source": [
    "# Extract API keys from environment variables\n",
    "PLAID_CLIENT_ID = os.getenv(\"PLAID_CLIENT_ID\")\n",
    "PLAID_PUBLIC_KEY = os.getenv(\"PLAID_PUBLIC_KEY\")\n",
    "PLAID_SECRET = os.getenv(\"PLAID_SECRET\")\n",
    "#print(PLAID_CLIENT_ID)\n",
    "#print(PLAID_PUBLIC_KEY)\n",
    "#print(PLAID_SECRET)"
   ]
  },
  {
   "cell_type": "markdown",
   "metadata": {},
   "source": [
    "---\n",
    "\n",
    "## Plaid Access Token\n",
    "\n",
    "In this section, you will use the `plaid-python` API to generate the correct authentication tokens to access data in the free developer Sandbox. This mimics how you might connect to your own account or a customer account, but due to privacy issues, this homework will only require connecting to and analyzing the fake data from the developer sandbox that Plaid provides. \n",
    "\n",
    "Complete the following steps to generate an access token:\n",
    "\n",
    "1. Create a client to connect to plaid\n",
    "\n",
    "2. Use the client to generate a public token and request the following items: ['transactions', 'income', 'assets']\n",
    "\n",
    "3. Exchange the public token for an access token\n",
    "\n",
    "4. Test the access token by requesting and printing the available test accounts"
   ]
  },
  {
   "cell_type": "markdown",
   "metadata": {},
   "source": [
    "### 1. Create a client to connect to plaid"
   ]
  },
  {
   "cell_type": "code",
   "execution_count": 29,
   "metadata": {},
   "outputs": [],
   "source": [
    "# Create the client object\n",
    "client = plaid.Client(\n",
    "    client_id=PLAID_CLIENT_ID,\n",
    "    secret=PLAID_SECRET,\n",
    "    public_key=PLAID_PUBLIC_KEY,\n",
    "    environment=\"sandbox\"\n",
    ")"
   ]
  },
  {
   "cell_type": "code",
   "execution_count": 30,
   "metadata": {},
   "outputs": [],
   "source": [
    "# Set the institution id\n",
    "INSTITUTION_ID = \"ins_109508\""
   ]
  },
  {
   "cell_type": "markdown",
   "metadata": {},
   "source": [
    "### 2. Generate a public token"
   ]
  },
  {
   "cell_type": "code",
   "execution_count": 31,
   "metadata": {},
   "outputs": [
    {
     "name": "stdout",
     "output_type": "stream",
     "text": [
      "{'public_token': 'public-sandbox-22ff826e-e54b-440e-970e-6f51b4a9a3e7', 'request_id': 'YFLwy9P9ojMLcOy'}\n"
     ]
    }
   ],
   "source": [
    "# Create the public token\n",
    "create_tkn_response = client.Sandbox.public_token.create(INSTITUTION_ID, [\"transactions\",\"income\",\"assets\"])\n",
    "\n",
    "# Print the public token\n",
    "print(create_tkn_response)"
   ]
  },
  {
   "cell_type": "markdown",
   "metadata": {},
   "source": [
    "### 3. Exchange the public token for an access token"
   ]
  },
  {
   "cell_type": "code",
   "execution_count": 32,
   "metadata": {},
   "outputs": [
    {
     "name": "stdout",
     "output_type": "stream",
     "text": [
      "{'access_token': 'access-sandbox-5a3c2cfb-1279-4cbf-afbd-4b8c7fe81273', 'item_id': '5NBmrEeb6qtyBXnEwNGmSDe7jqRNxbFZKJ9VN', 'request_id': 'eirmWBlygce4SyX'}\n"
     ]
    }
   ],
   "source": [
    "# Retrieve the access token\n",
    "exchange_response = client.Item.public_token.exchange(create_tkn_response[\"public_token\"])\n",
    "# Print the access token\n",
    "print(exchange_response)"
   ]
  },
  {
   "cell_type": "code",
   "execution_count": 33,
   "metadata": {},
   "outputs": [],
   "source": [
    "# Store the access token in a Python variable\n",
    "access_token = exchange_response[\"access_token\"]"
   ]
  },
  {
   "cell_type": "markdown",
   "metadata": {},
   "source": [
    "### 4. Fetch Accounts"
   ]
  },
  {
   "cell_type": "code",
   "execution_count": 34,
   "metadata": {},
   "outputs": [
    {
     "name": "stdout",
     "output_type": "stream",
     "text": [
      "{'accounts': [{'account_id': 'B8MbQxGZ97CR91MEWVgdfjvdpPVLmMFwvgbmz', 'balances': {'available': 100, 'current': 110, 'iso_currency_code': 'USD', 'limit': None, 'unofficial_currency_code': None}, 'mask': '0000', 'name': 'Plaid Checking', 'official_name': 'Plaid Gold Standard 0% Interest Checking', 'subtype': 'checking', 'type': 'depository'}, {'account_id': '3arAqgjbdmu95nXRw7VDHaej85mQqEIqgED4M', 'balances': {'available': 200, 'current': 210, 'iso_currency_code': 'USD', 'limit': None, 'unofficial_currency_code': None}, 'mask': '1111', 'name': 'Plaid Saving', 'official_name': 'Plaid Silver Standard 0.1% Interest Saving', 'subtype': 'savings', 'type': 'depository'}, {'account_id': 'xoGnPV4q5zfgb5JPodDGH5Pd1wgWNDsnMe3rA', 'balances': {'available': None, 'current': 1000, 'iso_currency_code': 'USD', 'limit': None, 'unofficial_currency_code': None}, 'mask': '2222', 'name': 'Plaid CD', 'official_name': 'Plaid Bronze Standard 0.2% Interest CD', 'subtype': 'cd', 'type': 'depository'}, {'account_id': 'dKk6pVWX8QuM4bnWGgBKHkZR3L5wvPCZyRjVG', 'balances': {'available': None, 'current': 410, 'iso_currency_code': 'USD', 'limit': 2000, 'unofficial_currency_code': None}, 'mask': '3333', 'name': 'Plaid Credit Card', 'official_name': 'Plaid Diamond 12.5% APR Interest Credit Card', 'subtype': 'credit card', 'type': 'credit'}, {'account_id': 'aA8bMVgX9jSkxoWvQwGph34q9zjJpWt76DByo', 'balances': {'available': 43200, 'current': 43200, 'iso_currency_code': 'USD', 'limit': None, 'unofficial_currency_code': None}, 'mask': '4444', 'name': 'Plaid Money Market', 'official_name': 'Plaid Platinum Standard 1.85% Interest Money Market', 'subtype': 'money market', 'type': 'depository'}, {'account_id': '44z5K87bGltg17ZErbvdH4JlPedWAzfdpLQGm', 'balances': {'available': None, 'current': 320.76, 'iso_currency_code': 'USD', 'limit': None, 'unofficial_currency_code': None}, 'mask': '5555', 'name': 'Plaid IRA', 'official_name': None, 'subtype': 'ira', 'type': 'investment'}, {'account_id': 'NdBDG1zNgWu39Vx5ekdEHGdJl3P5v4IW8Q4Ra', 'balances': {'available': None, 'current': 23631.9805, 'iso_currency_code': 'USD', 'limit': None, 'unofficial_currency_code': None}, 'mask': '6666', 'name': 'Plaid 401k', 'official_name': None, 'subtype': '401k', 'type': 'investment'}, {'account_id': 'P4xDqp3WoGtA6Xa5oxRpUxJD3Z758Pc7LAPqV', 'balances': {'available': None, 'current': 65262, 'iso_currency_code': 'USD', 'limit': None, 'unofficial_currency_code': None}, 'mask': '7777', 'name': 'Plaid Student Loan', 'official_name': None, 'subtype': 'student', 'type': 'loan'}, {'account_id': 'jd9nAVy5Pou6QNeAGzW1tkX4K9Qm7WC1KaVnb', 'balances': {'available': None, 'current': 56302.06, 'iso_currency_code': 'USD', 'limit': None, 'unofficial_currency_code': None}, 'mask': '8888', 'name': 'Plaid Mortgage', 'official_name': None, 'subtype': 'mortgage', 'type': 'loan'}], 'item': {'available_products': ['auth', 'balance', 'credit_details', 'identity', 'investments', 'liabilities'], 'billed_products': ['assets', 'income', 'transactions'], 'consent_expiration_time': None, 'error': None, 'institution_id': 'ins_109508', 'item_id': '5NBmrEeb6qtyBXnEwNGmSDe7jqRNxbFZKJ9VN', 'webhook': ''}, 'request_id': 'CXpP2ApODfIsTAD'}\n"
     ]
    }
   ],
   "source": [
    "# Retrieve accounts\n",
    "accounts = client.Accounts.get(access_token)\n",
    "# Print accounts\n",
    "print(accounts)"
   ]
  },
  {
   "cell_type": "markdown",
   "metadata": {},
   "source": [
    "---\n",
    "\n",
    "# Account Transactions with Plaid\n",
    "\n",
    "In this section, you will use the Plaid Python SDK to connect to the Developer Sandbox account and grab a list of transactions. You will need to complete the following steps:\n",
    "\n",
    "\n",
    "1. Use the access token to fetch the transactions for the last 90 days\n",
    "\n",
    "2. Print the categories for each transaction type\n",
    "\n",
    "3. Create a new DataFrame using the following fields from the JSON transaction data: `date, name, amount, category`. (For categories with more than one label, just use the first category label in the list)\n",
    "\n",
    "4. Convert the data types to the appropriate types (i.e. datetimeindex for the date and float for the amount)"
   ]
  },
  {
   "cell_type": "markdown",
   "metadata": {},
   "source": [
    "### 1. Fetch the Transactions for the last 90 days"
   ]
  },
  {
   "cell_type": "code",
   "execution_count": 35,
   "metadata": {},
   "outputs": [
    {
     "name": "stdout",
     "output_type": "stream",
     "text": [
      "{'accounts': [{'account_id': 'B8MbQxGZ97CR91MEWVgdfjvdpPVLmMFwvgbmz', 'balances': {'available': 100, 'current': 110, 'iso_currency_code': 'USD', 'limit': None, 'unofficial_currency_code': None}, 'mask': '0000', 'name': 'Plaid Checking', 'official_name': 'Plaid Gold Standard 0% Interest Checking', 'subtype': 'checking', 'type': 'depository'}, {'account_id': '3arAqgjbdmu95nXRw7VDHaej85mQqEIqgED4M', 'balances': {'available': 200, 'current': 210, 'iso_currency_code': 'USD', 'limit': None, 'unofficial_currency_code': None}, 'mask': '1111', 'name': 'Plaid Saving', 'official_name': 'Plaid Silver Standard 0.1% Interest Saving', 'subtype': 'savings', 'type': 'depository'}, {'account_id': 'xoGnPV4q5zfgb5JPodDGH5Pd1wgWNDsnMe3rA', 'balances': {'available': None, 'current': 1000, 'iso_currency_code': 'USD', 'limit': None, 'unofficial_currency_code': None}, 'mask': '2222', 'name': 'Plaid CD', 'official_name': 'Plaid Bronze Standard 0.2% Interest CD', 'subtype': 'cd', 'type': 'depository'}, {'account_id': 'dKk6pVWX8QuM4bnWGgBKHkZR3L5wvPCZyRjVG', 'balances': {'available': None, 'current': 410, 'iso_currency_code': 'USD', 'limit': 2000, 'unofficial_currency_code': None}, 'mask': '3333', 'name': 'Plaid Credit Card', 'official_name': 'Plaid Diamond 12.5% APR Interest Credit Card', 'subtype': 'credit card', 'type': 'credit'}, {'account_id': 'aA8bMVgX9jSkxoWvQwGph34q9zjJpWt76DByo', 'balances': {'available': 43200, 'current': 43200, 'iso_currency_code': 'USD', 'limit': None, 'unofficial_currency_code': None}, 'mask': '4444', 'name': 'Plaid Money Market', 'official_name': 'Plaid Platinum Standard 1.85% Interest Money Market', 'subtype': 'money market', 'type': 'depository'}, {'account_id': '44z5K87bGltg17ZErbvdH4JlPedWAzfdpLQGm', 'balances': {'available': None, 'current': 320.76, 'iso_currency_code': 'USD', 'limit': None, 'unofficial_currency_code': None}, 'mask': '5555', 'name': 'Plaid IRA', 'official_name': None, 'subtype': 'ira', 'type': 'investment'}, {'account_id': 'NdBDG1zNgWu39Vx5ekdEHGdJl3P5v4IW8Q4Ra', 'balances': {'available': None, 'current': 23631.9805, 'iso_currency_code': 'USD', 'limit': None, 'unofficial_currency_code': None}, 'mask': '6666', 'name': 'Plaid 401k', 'official_name': None, 'subtype': '401k', 'type': 'investment'}, {'account_id': 'P4xDqp3WoGtA6Xa5oxRpUxJD3Z758Pc7LAPqV', 'balances': {'available': None, 'current': 65262, 'iso_currency_code': 'USD', 'limit': None, 'unofficial_currency_code': None}, 'mask': '7777', 'name': 'Plaid Student Loan', 'official_name': None, 'subtype': 'student', 'type': 'loan'}, {'account_id': 'jd9nAVy5Pou6QNeAGzW1tkX4K9Qm7WC1KaVnb', 'balances': {'available': None, 'current': 56302.06, 'iso_currency_code': 'USD', 'limit': None, 'unofficial_currency_code': None}, 'mask': '8888', 'name': 'Plaid Mortgage', 'official_name': None, 'subtype': 'mortgage', 'type': 'loan'}], 'item': {'available_products': ['auth', 'balance', 'credit_details', 'identity', 'investments', 'liabilities'], 'billed_products': ['assets', 'income', 'transactions'], 'consent_expiration_time': None, 'error': None, 'institution_id': 'ins_109508', 'item_id': '5NBmrEeb6qtyBXnEwNGmSDe7jqRNxbFZKJ9VN', 'webhook': ''}, 'request_id': 'ZBBKsU4wSOvMOZ8', 'total_transactions': 66, 'transactions': [{'account_id': '3arAqgjbdmu95nXRw7VDHaej85mQqEIqgED4M', 'account_owner': None, 'amount': -4.22, 'authorized_date': None, 'category': ['Transfer', 'Credit'], 'category_id': '21005000', 'date': '2020-07-09', 'iso_currency_code': 'USD', 'location': {'address': None, 'city': None, 'country': None, 'lat': None, 'lon': None, 'postal_code': None, 'region': None, 'store_number': None}, 'merchant_name': None, 'name': 'INTRST PYMNT', 'payment_channel': 'other', 'payment_meta': {'by_order_of': None, 'payee': None, 'payer': None, 'payment_method': None, 'payment_processor': None, 'ppd_id': None, 'reason': None, 'reference_number': None}, 'pending': False, 'pending_transaction_id': None, 'transaction_code': None, 'transaction_id': 'B8MbQxGZ97CR91MEWVgdfjvE7gGmvwuwvgbeE', 'transaction_type': 'special', 'unofficial_currency_code': None}, {'account_id': '3arAqgjbdmu95nXRw7VDHaej85mQqEIqgED4M', 'account_owner': None, 'amount': -4.22, 'authorized_date': None, 'category': ['Transfer', 'Credit'], 'category_id': '21005000', 'date': '2020-07-09', 'iso_currency_code': 'USD', 'location': {'address': None, 'city': None, 'country': None, 'lat': None, 'lon': None, 'postal_code': None, 'region': None, 'store_number': None}, 'merchant_name': None, 'name': 'INTRST PYMNT', 'payment_channel': 'other', 'payment_meta': {'by_order_of': None, 'payee': None, 'payer': None, 'payment_method': None, 'payment_processor': None, 'ppd_id': None, 'reason': None, 'reference_number': None}, 'pending': False, 'pending_transaction_id': None, 'transaction_code': None, 'transaction_id': 'qeGyBVrD9nTGgjJneMmAsMo9PX6ZQ4udz7XAB', 'transaction_type': 'special', 'unofficial_currency_code': None}, {'account_id': 'dKk6pVWX8QuM4bnWGgBKHkZR3L5wvPCZyRjVG', 'account_owner': None, 'amount': 500, 'authorized_date': None, 'category': ['Travel', 'Airlines and Aviation Services'], 'category_id': '22001000', 'date': '2020-06-29', 'iso_currency_code': 'USD', 'location': {'address': None, 'city': None, 'country': None, 'lat': None, 'lon': None, 'postal_code': None, 'region': None, 'store_number': None}, 'merchant_name': 'United Airlines', 'name': 'United Airlines', 'payment_channel': 'in store', 'payment_meta': {'by_order_of': None, 'payee': None, 'payer': None, 'payment_method': None, 'payment_processor': None, 'ppd_id': None, 'reason': None, 'reference_number': None}, 'pending': False, 'pending_transaction_id': None, 'transaction_code': None, 'transaction_id': 'DWLDMabqVQT1o7e5DqGVUP6DEE8eJ8cv5apKD', 'transaction_type': 'special', 'unofficial_currency_code': None}, {'account_id': 'dKk6pVWX8QuM4bnWGgBKHkZR3L5wvPCZyRjVG', 'account_owner': None, 'amount': 500, 'authorized_date': None, 'category': ['Travel', 'Airlines and Aviation Services'], 'category_id': '22001000', 'date': '2020-06-29', 'iso_currency_code': 'USD', 'location': {'address': None, 'city': None, 'country': None, 'lat': None, 'lon': None, 'postal_code': None, 'region': None, 'store_number': None}, 'merchant_name': 'United Airlines', 'name': 'United Airlines', 'payment_channel': 'in store', 'payment_meta': {'by_order_of': None, 'payee': None, 'payer': None, 'payment_method': None, 'payment_processor': None, 'ppd_id': None, 'reason': None, 'reference_number': None}, 'pending': False, 'pending_transaction_id': None, 'transaction_code': None, 'transaction_id': 'aA8bMVgX9jSkxoWvQwGph34Dek8p4bT76DBdp', 'transaction_type': 'special', 'unofficial_currency_code': None}, {'account_id': 'B8MbQxGZ97CR91MEWVgdfjvdpPVLmMFwvgbmz', 'account_owner': None, 'amount': 6.33, 'authorized_date': None, 'category': ['Travel', 'Taxi'], 'category_id': '22016000', 'date': '2020-06-27', 'iso_currency_code': 'USD', 'location': {'address': None, 'city': None, 'country': None, 'lat': None, 'lon': None, 'postal_code': None, 'region': None, 'store_number': None}, 'merchant_name': 'Uber', 'name': 'Uber 072515 SF**POOL**', 'payment_channel': 'in store', 'payment_meta': {'by_order_of': None, 'payee': None, 'payer': None, 'payment_method': None, 'payment_processor': None, 'ppd_id': None, 'reason': None, 'reference_number': None}, 'pending': False, 'pending_transaction_id': None, 'transaction_code': None, 'transaction_id': '1xqEGpNVmncV5vLqr4x6Hwnb85W7R3c58evVy', 'transaction_type': 'special', 'unofficial_currency_code': None}, {'account_id': 'B8MbQxGZ97CR91MEWVgdfjvdpPVLmMFwvgbmz', 'account_owner': None, 'amount': 6.33, 'authorized_date': None, 'category': ['Travel', 'Taxi'], 'category_id': '22016000', 'date': '2020-06-27', 'iso_currency_code': 'USD', 'location': {'address': None, 'city': None, 'country': None, 'lat': None, 'lon': None, 'postal_code': None, 'region': None, 'store_number': None}, 'merchant_name': 'Uber', 'name': 'Uber 072515 SF**POOL**', 'payment_channel': 'in store', 'payment_meta': {'by_order_of': None, 'payee': None, 'payer': None, 'payment_method': None, 'payment_processor': None, 'ppd_id': None, 'reason': None, 'reference_number': None}, 'pending': False, 'pending_transaction_id': None, 'transaction_code': None, 'transaction_id': 'ka6WG59Dkgu4VLx193adFaqEX3JWqbUW7olPV', 'transaction_type': 'special', 'unofficial_currency_code': None}, {'account_id': 'dKk6pVWX8QuM4bnWGgBKHkZR3L5wvPCZyRjVG', 'account_owner': None, 'amount': 500, 'authorized_date': None, 'category': ['Food and Drink', 'Restaurants'], 'category_id': '13005000', 'date': '2020-06-24', 'iso_currency_code': 'USD', 'location': {'address': None, 'city': None, 'country': None, 'lat': None, 'lon': None, 'postal_code': None, 'region': None, 'store_number': None}, 'merchant_name': 'Tectra Inc', 'name': 'Tectra Inc', 'payment_channel': 'in store', 'payment_meta': {'by_order_of': None, 'payee': None, 'payer': None, 'payment_method': None, 'payment_processor': None, 'ppd_id': None, 'reason': None, 'reference_number': None}, 'pending': False, 'pending_transaction_id': None, 'transaction_code': None, 'transaction_id': '44z5K87bGltg17ZErbvdH4JvZX7AJnudpLQDg', 'transaction_type': 'place', 'unofficial_currency_code': None}, {'account_id': 'dKk6pVWX8QuM4bnWGgBKHkZR3L5wvPCZyRjVG', 'account_owner': None, 'amount': 500, 'authorized_date': None, 'category': ['Food and Drink', 'Restaurants'], 'category_id': '13005000', 'date': '2020-06-24', 'iso_currency_code': 'USD', 'location': {'address': None, 'city': None, 'country': None, 'lat': None, 'lon': None, 'postal_code': None, 'region': None, 'store_number': None}, 'merchant_name': 'Tectra Inc', 'name': 'Tectra Inc', 'payment_channel': 'in store', 'payment_meta': {'by_order_of': None, 'payee': None, 'payer': None, 'payment_method': None, 'payment_processor': None, 'ppd_id': None, 'reason': None, 'reference_number': None}, 'pending': False, 'pending_transaction_id': None, 'transaction_code': None, 'transaction_id': 'VQjDxAPLrKIB36e5LQrgSVn8PPRk1RfWBPA3r', 'transaction_type': 'place', 'unofficial_currency_code': None}, {'account_id': 'dKk6pVWX8QuM4bnWGgBKHkZR3L5wvPCZyRjVG', 'account_owner': None, 'amount': 2078.5, 'authorized_date': None, 'category': ['Payment'], 'category_id': '16000000', 'date': '2020-06-23', 'iso_currency_code': 'USD', 'location': {'address': None, 'city': None, 'country': None, 'lat': None, 'lon': None, 'postal_code': None, 'region': None, 'store_number': None}, 'merchant_name': None, 'name': 'AUTOMATIC PAYMENT - THANK', 'payment_channel': 'other', 'payment_meta': {'by_order_of': None, 'payee': None, 'payer': None, 'payment_method': None, 'payment_processor': None, 'ppd_id': None, 'reason': None, 'reference_number': None}, 'pending': False, 'pending_transaction_id': None, 'transaction_code': None, 'transaction_id': 'AgZEe3AVpjCbxmJZyDB5UZJK33qw5qC1QAenR', 'transaction_type': 'special', 'unofficial_currency_code': None}, {'account_id': 'dKk6pVWX8QuM4bnWGgBKHkZR3L5wvPCZyRjVG', 'account_owner': None, 'amount': 2078.5, 'authorized_date': None, 'category': ['Payment'], 'category_id': '16000000', 'date': '2020-06-23', 'iso_currency_code': 'USD', 'location': {'address': None, 'city': None, 'country': None, 'lat': None, 'lon': None, 'postal_code': None, 'region': None, 'store_number': None}, 'merchant_name': None, 'name': 'AUTOMATIC PAYMENT - THANK', 'payment_channel': 'other', 'payment_meta': {'by_order_of': None, 'payee': None, 'payer': None, 'payment_method': None, 'payment_processor': None, 'ppd_id': None, 'reason': None, 'reference_number': None}, 'pending': False, 'pending_transaction_id': None, 'transaction_code': None, 'transaction_id': 'jd9nAVy5Pou6QNeAGzW1tkXAljP7X3S1KaVpv', 'transaction_type': 'special', 'unofficial_currency_code': None}, {'account_id': 'dKk6pVWX8QuM4bnWGgBKHkZR3L5wvPCZyRjVG', 'account_owner': None, 'amount': 500, 'authorized_date': None, 'category': ['Food and Drink', 'Restaurants', 'Fast Food'], 'category_id': '13005032', 'date': '2020-06-23', 'iso_currency_code': 'USD', 'location': {'address': None, 'city': None, 'country': None, 'lat': None, 'lon': None, 'postal_code': None, 'region': None, 'store_number': None}, 'merchant_name': 'KFC', 'name': 'KFC', 'payment_channel': 'in store', 'payment_meta': {'by_order_of': None, 'payee': None, 'payer': None, 'payment_method': None, 'payment_processor': None, 'ppd_id': None, 'reason': None, 'reference_number': None}, 'pending': False, 'pending_transaction_id': None, 'transaction_code': None, 'transaction_id': 'P4xDqp3WoGtA6Xa5oxRpUxJpAXj8JVf7LAP3o', 'transaction_type': 'place', 'unofficial_currency_code': None}, {'account_id': 'dKk6pVWX8QuM4bnWGgBKHkZR3L5wvPCZyRjVG', 'account_owner': None, 'amount': 500, 'authorized_date': None, 'category': ['Food and Drink', 'Restaurants', 'Fast Food'], 'category_id': '13005032', 'date': '2020-06-23', 'iso_currency_code': 'USD', 'location': {'address': None, 'city': None, 'country': None, 'lat': None, 'lon': None, 'postal_code': None, 'region': None, 'store_number': None}, 'merchant_name': 'KFC', 'name': 'KFC', 'payment_channel': 'in store', 'payment_meta': {'by_order_of': None, 'payee': None, 'payer': None, 'payment_method': None, 'payment_processor': None, 'ppd_id': None, 'reason': None, 'reference_number': None}, 'pending': False, 'pending_transaction_id': None, 'transaction_code': None, 'transaction_id': 'WZ7DdGjMzru7ZbQ5Byp8UbLNvv6Ag6flk1aJN', 'transaction_type': 'place', 'unofficial_currency_code': None}, {'account_id': 'dKk6pVWX8QuM4bnWGgBKHkZR3L5wvPCZyRjVG', 'account_owner': None, 'amount': 500, 'authorized_date': None, 'category': ['Shops', 'Sporting Goods'], 'category_id': '19046000', 'date': '2020-06-23', 'iso_currency_code': 'USD', 'location': {'address': None, 'city': None, 'country': None, 'lat': None, 'lon': None, 'postal_code': None, 'region': None, 'store_number': None}, 'merchant_name': 'Madison Bicycle Shop', 'name': 'Madison Bicycle Shop', 'payment_channel': 'in store', 'payment_meta': {'by_order_of': None, 'payee': None, 'payer': None, 'payment_method': None, 'payment_processor': None, 'ppd_id': None, 'reason': None, 'reference_number': None}, 'pending': False, 'pending_transaction_id': None, 'transaction_code': None, 'transaction_id': 'NdBDG1zNgWu39Vx5ekdEHGdp8XDvd6UW8Q4eW', 'transaction_type': 'place', 'unofficial_currency_code': None}, {'account_id': 'dKk6pVWX8QuM4bnWGgBKHkZR3L5wvPCZyRjVG', 'account_owner': None, 'amount': 500, 'authorized_date': None, 'category': ['Shops', 'Sporting Goods'], 'category_id': '19046000', 'date': '2020-06-23', 'iso_currency_code': 'USD', 'location': {'address': None, 'city': None, 'country': None, 'lat': None, 'lon': None, 'postal_code': None, 'region': None, 'store_number': None}, 'merchant_name': 'Madison Bicycle Shop', 'name': 'Madison Bicycle Shop', 'payment_channel': 'in store', 'payment_meta': {'by_order_of': None, 'payee': None, 'payer': None, 'payment_method': None, 'payment_processor': None, 'ppd_id': None, 'reason': None, 'reference_number': None}, 'pending': False, 'pending_transaction_id': None, 'transaction_code': None, 'transaction_id': 'wpGmNValJrCznb1VpjqZtJx3MMLbBLurbodBa', 'transaction_type': 'place', 'unofficial_currency_code': None}, {'account_id': '3arAqgjbdmu95nXRw7VDHaej85mQqEIqgED4M', 'account_owner': None, 'amount': 25, 'authorized_date': None, 'category': ['Payment', 'Credit Card'], 'category_id': '16001000', 'date': '2020-06-14', 'iso_currency_code': 'USD', 'location': {'address': None, 'city': None, 'country': None, 'lat': None, 'lon': None, 'postal_code': None, 'region': None, 'store_number': None}, 'merchant_name': None, 'name': 'CREDIT CARD 3333 PAYMENT *//', 'payment_channel': 'other', 'payment_meta': {'by_order_of': None, 'payee': None, 'payer': None, 'payment_method': None, 'payment_processor': None, 'ppd_id': None, 'reason': None, 'reference_number': None}, 'pending': False, 'pending_transaction_id': None, 'transaction_code': None, 'transaction_id': '3arAqgjbdmu95nXRw7VDHaeVXkPqedUqgEDox', 'transaction_type': 'special', 'unofficial_currency_code': None}, {'account_id': '3arAqgjbdmu95nXRw7VDHaej85mQqEIqgED4M', 'account_owner': None, 'amount': 25, 'authorized_date': None, 'category': ['Payment', 'Credit Card'], 'category_id': '16001000', 'date': '2020-06-14', 'iso_currency_code': 'USD', 'location': {'address': None, 'city': None, 'country': None, 'lat': None, 'lon': None, 'postal_code': None, 'region': None, 'store_number': None}, 'merchant_name': None, 'name': 'CREDIT CARD 3333 PAYMENT *//', 'payment_channel': 'other', 'payment_meta': {'by_order_of': None, 'payee': None, 'payer': None, 'payment_method': None, 'payment_processor': None, 'ppd_id': None, 'reason': None, 'reference_number': None}, 'pending': False, 'pending_transaction_id': None, 'transaction_code': None, 'transaction_id': 'KBKDEQqdZgcdr7z5aRK6Cz7gp4k3NKcVxA3W3', 'transaction_type': 'special', 'unofficial_currency_code': None}, {'account_id': 'B8MbQxGZ97CR91MEWVgdfjvdpPVLmMFwvgbmz', 'account_owner': None, 'amount': 5.4, 'authorized_date': None, 'category': ['Travel', 'Taxi'], 'category_id': '22016000', 'date': '2020-06-14', 'iso_currency_code': 'USD', 'location': {'address': None, 'city': None, 'country': None, 'lat': None, 'lon': None, 'postal_code': None, 'region': None, 'store_number': None}, 'merchant_name': 'Uber', 'name': 'Uber 063015 SF**POOL**', 'payment_channel': 'in store', 'payment_meta': {'by_order_of': None, 'payee': None, 'payer': None, 'payment_method': None, 'payment_processor': None, 'ppd_id': None, 'reason': None, 'reference_number': None}, 'pending': False, 'pending_transaction_id': None, 'transaction_code': None, 'transaction_id': 'L3rDWZKao8hAxwB5y87XUxBwXbKzlrtPXpzBg', 'transaction_type': 'special', 'unofficial_currency_code': None}, {'account_id': 'B8MbQxGZ97CR91MEWVgdfjvdpPVLmMFwvgbmz', 'account_owner': None, 'amount': 5.4, 'authorized_date': None, 'category': ['Travel', 'Taxi'], 'category_id': '22016000', 'date': '2020-06-14', 'iso_currency_code': 'USD', 'location': {'address': None, 'city': None, 'country': None, 'lat': None, 'lon': None, 'postal_code': None, 'region': None, 'store_number': None}, 'merchant_name': 'Uber', 'name': 'Uber 063015 SF**POOL**', 'payment_channel': 'in store', 'payment_meta': {'by_order_of': None, 'payee': None, 'payer': None, 'payment_method': None, 'payment_processor': None, 'ppd_id': None, 'reason': None, 'reference_number': None}, 'pending': False, 'pending_transaction_id': None, 'transaction_code': None, 'transaction_id': 'l4GnlVvDd8tnMRdl431gSdAMWNxPAruZBRV9y', 'transaction_type': 'special', 'unofficial_currency_code': None}, {'account_id': 'aA8bMVgX9jSkxoWvQwGph34q9zjJpWt76DByo', 'account_owner': None, 'amount': 5850, 'authorized_date': None, 'category': ['Transfer', 'Debit'], 'category_id': '21006000', 'date': '2020-06-13', 'iso_currency_code': 'USD', 'location': {'address': None, 'city': None, 'country': None, 'lat': None, 'lon': None, 'postal_code': None, 'region': None, 'store_number': None}, 'merchant_name': None, 'name': 'ACH Electronic CreditGUSTO PAY 123456', 'payment_channel': 'other', 'payment_meta': {'by_order_of': None, 'payee': None, 'payer': None, 'payment_method': 'ACH', 'payment_processor': None, 'ppd_id': None, 'reason': None, 'reference_number': None}, 'pending': False, 'pending_transaction_id': None, 'transaction_code': None, 'transaction_id': 'erGWoVAX1ZCXNAJjr8ElcoA5ylDpAjuLvm46V', 'transaction_type': 'special', 'unofficial_currency_code': None}, {'account_id': 'aA8bMVgX9jSkxoWvQwGph34q9zjJpWt76DByo', 'account_owner': None, 'amount': 5850, 'authorized_date': None, 'category': ['Transfer', 'Debit'], 'category_id': '21006000', 'date': '2020-06-13', 'iso_currency_code': 'USD', 'location': {'address': None, 'city': None, 'country': None, 'lat': None, 'lon': None, 'postal_code': None, 'region': None, 'store_number': None}, 'merchant_name': None, 'name': 'ACH Electronic CreditGUSTO PAY 123456', 'payment_channel': 'other', 'payment_meta': {'by_order_of': None, 'payee': None, 'payer': None, 'payment_method': 'ACH', 'payment_processor': None, 'ppd_id': None, 'reason': None, 'reference_number': None}, 'pending': False, 'pending_transaction_id': None, 'transaction_code': None, 'transaction_id': 'p7ynzVKD9GCvo4AzGZ5gineLRR1Zd1FLZVy5X', 'transaction_type': 'special', 'unofficial_currency_code': None}, {'account_id': 'xoGnPV4q5zfgb5JPodDGH5Pd1wgWNDsnMe3rA', 'account_owner': None, 'amount': 1000, 'authorized_date': None, 'category': ['Transfer', 'Deposit'], 'category_id': '21007000', 'date': '2020-06-13', 'iso_currency_code': 'USD', 'location': {'address': None, 'city': None, 'country': None, 'lat': None, 'lon': None, 'postal_code': None, 'region': None, 'store_number': None}, 'merchant_name': None, 'name': 'CD DEPOSIT .INITIAL.', 'payment_channel': 'other', 'payment_meta': {'by_order_of': None, 'payee': None, 'payer': None, 'payment_method': None, 'payment_processor': None, 'ppd_id': None, 'reason': None, 'reference_number': None}, 'pending': False, 'pending_transaction_id': None, 'transaction_code': None, 'transaction_id': '7jxDBAZblrueKRgElMJoTGN8nnErjEsgonVED', 'transaction_type': 'special', 'unofficial_currency_code': None}, {'account_id': 'xoGnPV4q5zfgb5JPodDGH5Pd1wgWNDsnMe3rA', 'account_owner': None, 'amount': 1000, 'authorized_date': None, 'category': ['Transfer', 'Deposit'], 'category_id': '21007000', 'date': '2020-06-13', 'iso_currency_code': 'USD', 'location': {'address': None, 'city': None, 'country': None, 'lat': None, 'lon': None, 'postal_code': None, 'region': None, 'store_number': None}, 'merchant_name': None, 'name': 'CD DEPOSIT .INITIAL.', 'payment_channel': 'other', 'payment_meta': {'by_order_of': None, 'payee': None, 'payer': None, 'payment_method': None, 'payment_processor': None, 'ppd_id': None, 'reason': None, 'reference_number': None}, 'pending': False, 'pending_transaction_id': None, 'transaction_code': None, 'transaction_id': 'dKk6pVWX8QuM4bnWGgBKHkZo8ByvZaSZyRjgd', 'transaction_type': 'special', 'unofficial_currency_code': None}, {'account_id': 'dKk6pVWX8QuM4bnWGgBKHkZR3L5wvPCZyRjVG', 'account_owner': None, 'amount': 78.5, 'authorized_date': None, 'category': ['Recreation', 'Gyms and Fitness Centers'], 'category_id': '17018000', 'date': '2020-06-12', 'iso_currency_code': 'USD', 'location': {'address': None, 'city': None, 'country': None, 'lat': None, 'lon': None, 'postal_code': None, 'region': None, 'store_number': None}, 'merchant_name': 'Touchstone', 'name': 'Touchstone Climbing', 'payment_channel': 'in store', 'payment_meta': {'by_order_of': None, 'payee': None, 'payer': None, 'payment_method': None, 'payment_processor': None, 'ppd_id': None, 'reason': None, 'reference_number': None}, 'pending': False, 'pending_transaction_id': None, 'transaction_code': None, 'transaction_id': '7jxDBAZblrueKRgElMJoTGNBgXRnNvUgbxovM', 'transaction_type': 'place', 'unofficial_currency_code': None}, {'account_id': 'dKk6pVWX8QuM4bnWGgBKHkZR3L5wvPCZyRjVG', 'account_owner': None, 'amount': 78.5, 'authorized_date': None, 'category': ['Recreation', 'Gyms and Fitness Centers'], 'category_id': '17018000', 'date': '2020-06-12', 'iso_currency_code': 'USD', 'location': {'address': None, 'city': None, 'country': None, 'lat': None, 'lon': None, 'postal_code': None, 'region': None, 'store_number': None}, 'merchant_name': 'Touchstone', 'name': 'Touchstone Climbing', 'payment_channel': 'in store', 'payment_meta': {'by_order_of': None, 'payee': None, 'payer': None, 'payment_method': None, 'payment_processor': None, 'ppd_id': None, 'reason': None, 'reference_number': None}, 'pending': False, 'pending_transaction_id': None, 'transaction_code': None, 'transaction_id': 'GqgDpP9zo1Hwn8l5XvAzHwlDJJxaZxH15PjzW', 'transaction_type': 'place', 'unofficial_currency_code': None}, {'account_id': 'B8MbQxGZ97CR91MEWVgdfjvdpPVLmMFwvgbmz', 'account_owner': None, 'amount': -500, 'authorized_date': None, 'category': ['Travel', 'Airlines and Aviation Services'], 'category_id': '22001000', 'date': '2020-06-12', 'iso_currency_code': 'USD', 'location': {'address': None, 'city': None, 'country': None, 'lat': None, 'lon': None, 'postal_code': None, 'region': None, 'store_number': None}, 'merchant_name': 'United Airlines', 'name': 'United Airlines', 'payment_channel': 'other', 'payment_meta': {'by_order_of': None, 'payee': None, 'payer': None, 'payment_method': None, 'payment_processor': None, 'ppd_id': None, 'reason': None, 'reference_number': None}, 'pending': False, 'pending_transaction_id': None, 'transaction_code': None, 'transaction_id': 'p7ynzVKD9GCvo4AzGZ5ginePjbVNgpuLZVmeD', 'transaction_type': 'special', 'unofficial_currency_code': None}, {'account_id': 'B8MbQxGZ97CR91MEWVgdfjvdpPVLmMFwvgbmz', 'account_owner': None, 'amount': -500, 'authorized_date': None, 'category': ['Travel', 'Airlines and Aviation Services'], 'category_id': '22001000', 'date': '2020-06-12', 'iso_currency_code': 'USD', 'location': {'address': None, 'city': None, 'country': None, 'lat': None, 'lon': None, 'postal_code': None, 'region': None, 'store_number': None}, 'merchant_name': 'United Airlines', 'name': 'United Airlines', 'payment_channel': 'other', 'payment_meta': {'by_order_of': None, 'payee': None, 'payer': None, 'payment_method': None, 'payment_processor': None, 'ppd_id': None, 'reason': None, 'reference_number': None}, 'pending': False, 'pending_transaction_id': None, 'transaction_code': None, 'transaction_id': 'qeGyBVrD9nTGgjJneMmAsMo695JDoqfdlRzbE', 'transaction_type': 'special', 'unofficial_currency_code': None}, {'account_id': 'B8MbQxGZ97CR91MEWVgdfjvdpPVLmMFwvgbmz', 'account_owner': None, 'amount': 12, 'authorized_date': None, 'category': ['Food and Drink', 'Restaurants', 'Fast Food'], 'category_id': '13005032', 'date': '2020-06-11', 'iso_currency_code': 'USD', 'location': {'address': None, 'city': None, 'country': None, 'lat': None, 'lon': None, 'postal_code': None, 'region': None, 'store_number': '3322'}, 'merchant_name': \"McDonald's\", 'name': \"McDonald's\", 'payment_channel': 'in store', 'payment_meta': {'by_order_of': None, 'payee': None, 'payer': None, 'payment_method': None, 'payment_processor': None, 'ppd_id': None, 'reason': None, 'reference_number': None}, 'pending': False, 'pending_transaction_id': None, 'transaction_code': None, 'transaction_id': 'KBKDEQqdZgcdr7z5aRK6Cz7kgEPL7WFVo1xw9', 'transaction_type': 'place', 'unofficial_currency_code': None}, {'account_id': 'B8MbQxGZ97CR91MEWVgdfjvdpPVLmMFwvgbmz', 'account_owner': None, 'amount': 12, 'authorized_date': None, 'category': ['Food and Drink', 'Restaurants', 'Fast Food'], 'category_id': '13005032', 'date': '2020-06-11', 'iso_currency_code': 'USD', 'location': {'address': None, 'city': None, 'country': None, 'lat': None, 'lon': None, 'postal_code': None, 'region': None, 'store_number': '3322'}, 'merchant_name': \"McDonald's\", 'name': \"McDonald's\", 'payment_channel': 'in store', 'payment_meta': {'by_order_of': None, 'payee': None, 'payer': None, 'payment_method': None, 'payment_processor': None, 'ppd_id': None, 'reason': None, 'reference_number': None}, 'pending': False, 'pending_transaction_id': None, 'transaction_code': None, 'transaction_id': 'ojGnrVqD9Auap4mrjnN9UyWRKL6ngXiRd7wAR', 'transaction_type': 'place', 'unofficial_currency_code': None}, {'account_id': 'B8MbQxGZ97CR91MEWVgdfjvdpPVLmMFwvgbmz', 'account_owner': None, 'amount': 4.33, 'authorized_date': None, 'category': ['Food and Drink', 'Restaurants', 'Coffee Shop'], 'category_id': '13005043', 'date': '2020-06-11', 'iso_currency_code': 'USD', 'location': {'address': None, 'city': None, 'country': None, 'lat': None, 'lon': None, 'postal_code': None, 'region': None, 'store_number': None}, 'merchant_name': 'Starbucks', 'name': 'Starbucks', 'payment_channel': 'in store', 'payment_meta': {'by_order_of': None, 'payee': None, 'payer': None, 'payment_method': None, 'payment_processor': None, 'ppd_id': None, 'reason': None, 'reference_number': None}, 'pending': False, 'pending_transaction_id': None, 'transaction_code': None, 'transaction_id': 'gBGW8VnXk1cmjdAeBQoySBLawynkzAigxnk9E', 'transaction_type': 'place', 'unofficial_currency_code': None}, {'account_id': 'B8MbQxGZ97CR91MEWVgdfjvdpPVLmMFwvgbmz', 'account_owner': None, 'amount': 4.33, 'authorized_date': None, 'category': ['Food and Drink', 'Restaurants', 'Coffee Shop'], 'category_id': '13005043', 'date': '2020-06-11', 'iso_currency_code': 'USD', 'location': {'address': None, 'city': None, 'country': None, 'lat': None, 'lon': None, 'postal_code': None, 'region': None, 'store_number': None}, 'merchant_name': 'Starbucks', 'name': 'Starbucks', 'payment_channel': 'in store', 'payment_meta': {'by_order_of': None, 'payee': None, 'payer': None, 'payment_method': None, 'payment_processor': None, 'ppd_id': None, 'reason': None, 'reference_number': None}, 'pending': False, 'pending_transaction_id': None, 'transaction_code': None, 'transaction_id': 'rQGn3VzD9bI58Xj3QBgDUM1zKX7p1qflb1eKP', 'transaction_type': 'place', 'unofficial_currency_code': None}, {'account_id': 'B8MbQxGZ97CR91MEWVgdfjvdpPVLmMFwvgbmz', 'account_owner': None, 'amount': 89.4, 'authorized_date': None, 'category': ['Food and Drink', 'Restaurants'], 'category_id': '13005000', 'date': '2020-06-10', 'iso_currency_code': 'USD', 'location': {'address': None, 'city': None, 'country': None, 'lat': None, 'lon': None, 'postal_code': None, 'region': None, 'store_number': None}, 'merchant_name': 'Sparkfun', 'name': 'SparkFun', 'payment_channel': 'in store', 'payment_meta': {'by_order_of': None, 'payee': None, 'payer': None, 'payment_method': None, 'payment_processor': None, 'ppd_id': None, 'reason': None, 'reference_number': None}, 'pending': False, 'pending_transaction_id': None, 'transaction_code': None, 'transaction_id': '87dE3GMmqzCE7M9dvbDLUy67ajnDpriwbLE5Z', 'transaction_type': 'place', 'unofficial_currency_code': None}, {'account_id': 'B8MbQxGZ97CR91MEWVgdfjvdpPVLmMFwvgbmz', 'account_owner': None, 'amount': 89.4, 'authorized_date': None, 'category': ['Food and Drink', 'Restaurants'], 'category_id': '13005000', 'date': '2020-06-10', 'iso_currency_code': 'USD', 'location': {'address': None, 'city': None, 'country': None, 'lat': None, 'lon': None, 'postal_code': None, 'region': None, 'store_number': None}, 'merchant_name': 'Sparkfun', 'name': 'SparkFun', 'payment_channel': 'in store', 'payment_meta': {'by_order_of': None, 'payee': None, 'payer': None, 'payment_method': None, 'payment_processor': None, 'ppd_id': None, 'reason': None, 'reference_number': None}, 'pending': False, 'pending_transaction_id': None, 'transaction_code': None, 'transaction_id': 'z8GX7qPr93CABgVk8967Umrj4KgLroIodQ5Pa', 'transaction_type': 'place', 'unofficial_currency_code': None}, {'account_id': '3arAqgjbdmu95nXRw7VDHaej85mQqEIqgED4M', 'account_owner': None, 'amount': -4.22, 'authorized_date': None, 'category': ['Transfer', 'Credit'], 'category_id': '21005000', 'date': '2020-06-09', 'iso_currency_code': 'USD', 'location': {'address': None, 'city': None, 'country': None, 'lat': None, 'lon': None, 'postal_code': None, 'region': None, 'store_number': None}, 'merchant_name': None, 'name': 'INTRST PYMNT', 'payment_channel': 'other', 'payment_meta': {'by_order_of': None, 'payee': None, 'payer': None, 'payment_method': None, 'payment_processor': None, 'ppd_id': None, 'reason': None, 'reference_number': None}, 'pending': False, 'pending_transaction_id': None, 'transaction_code': None, 'transaction_id': 'rQGn3VzD9bI58Xj3QBgDUM1KryznAmule6Bqq', 'transaction_type': 'special', 'unofficial_currency_code': None}, {'account_id': '3arAqgjbdmu95nXRw7VDHaej85mQqEIqgED4M', 'account_owner': None, 'amount': -4.22, 'authorized_date': None, 'category': ['Transfer', 'Credit'], 'category_id': '21005000', 'date': '2020-06-09', 'iso_currency_code': 'USD', 'location': {'address': None, 'city': None, 'country': None, 'lat': None, 'lon': None, 'postal_code': None, 'region': None, 'store_number': None}, 'merchant_name': None, 'name': 'INTRST PYMNT', 'payment_channel': 'other', 'payment_meta': {'by_order_of': None, 'payee': None, 'payer': None, 'payment_method': None, 'payment_processor': None, 'ppd_id': None, 'reason': None, 'reference_number': None}, 'pending': False, 'pending_transaction_id': None, 'transaction_code': None, 'transaction_id': 'xoGnPV4q5zfgb5JPodDGH5P69ZmNPQtnMe3lZ', 'transaction_type': 'special', 'unofficial_currency_code': None}, {'account_id': 'dKk6pVWX8QuM4bnWGgBKHkZR3L5wvPCZyRjVG', 'account_owner': None, 'amount': 500, 'authorized_date': None, 'category': ['Travel', 'Airlines and Aviation Services'], 'category_id': '22001000', 'date': '2020-05-30', 'iso_currency_code': 'USD', 'location': {'address': None, 'city': None, 'country': None, 'lat': None, 'lon': None, 'postal_code': None, 'region': None, 'store_number': None}, 'merchant_name': 'United Airlines', 'name': 'United Airlines', 'payment_channel': 'in store', 'payment_meta': {'by_order_of': None, 'payee': None, 'payer': None, 'payment_method': None, 'payment_processor': None, 'ppd_id': None, 'reason': None, 'reference_number': None}, 'pending': False, 'pending_transaction_id': None, 'transaction_code': None, 'transaction_id': 'nPGnKVlDwWtELQ4KPepXUoAJ334jM4u6jWmL6', 'transaction_type': 'special', 'unofficial_currency_code': None}, {'account_id': 'B8MbQxGZ97CR91MEWVgdfjvdpPVLmMFwvgbmz', 'account_owner': None, 'amount': 6.33, 'authorized_date': None, 'category': ['Travel', 'Taxi'], 'category_id': '22016000', 'date': '2020-05-28', 'iso_currency_code': 'USD', 'location': {'address': None, 'city': None, 'country': None, 'lat': None, 'lon': None, 'postal_code': None, 'region': None, 'store_number': None}, 'merchant_name': 'Uber', 'name': 'Uber 072515 SF**POOL**', 'payment_channel': 'in store', 'payment_meta': {'by_order_of': None, 'payee': None, 'payer': None, 'payment_method': None, 'payment_processor': None, 'ppd_id': None, 'reason': None, 'reference_number': None}, 'pending': False, 'pending_transaction_id': None, 'transaction_code': None, 'transaction_id': 'EApD14mKvZSvBLA5b367iPn3XZWdEJuXqkdz9', 'transaction_type': 'special', 'unofficial_currency_code': None}, {'account_id': 'dKk6pVWX8QuM4bnWGgBKHkZR3L5wvPCZyRjVG', 'account_owner': None, 'amount': 500, 'authorized_date': None, 'category': ['Food and Drink', 'Restaurants'], 'category_id': '13005000', 'date': '2020-05-25', 'iso_currency_code': 'USD', 'location': {'address': None, 'city': None, 'country': None, 'lat': None, 'lon': None, 'postal_code': None, 'region': None, 'store_number': None}, 'merchant_name': 'Tectra Inc', 'name': 'Tectra Inc', 'payment_channel': 'in store', 'payment_meta': {'by_order_of': None, 'payee': None, 'payer': None, 'payment_method': None, 'payment_processor': None, 'ppd_id': None, 'reason': None, 'reference_number': None}, 'pending': False, 'pending_transaction_id': None, 'transaction_code': None, 'transaction_id': 'blGW1VkXg7uzdrA4lXqZt4B3QQyZgyuVXZvMm', 'transaction_type': 'place', 'unofficial_currency_code': None}, {'account_id': 'dKk6pVWX8QuM4bnWGgBKHkZR3L5wvPCZyRjVG', 'account_owner': None, 'amount': 2078.5, 'authorized_date': None, 'category': ['Payment'], 'category_id': '16000000', 'date': '2020-05-24', 'iso_currency_code': 'USD', 'location': {'address': None, 'city': None, 'country': None, 'lat': None, 'lon': None, 'postal_code': None, 'region': None, 'store_number': None}, 'merchant_name': None, 'name': 'AUTOMATIC PAYMENT - THANK', 'payment_channel': 'other', 'payment_meta': {'by_order_of': None, 'payee': None, 'payer': None, 'payment_method': None, 'payment_processor': None, 'ppd_id': None, 'reason': None, 'reference_number': None}, 'pending': False, 'pending_transaction_id': None, 'transaction_code': None, 'transaction_id': '9eaExn17KBTDxGgak4KeFmDNeeQy7QTRpQJXE', 'transaction_type': 'special', 'unofficial_currency_code': None}, {'account_id': 'dKk6pVWX8QuM4bnWGgBKHkZR3L5wvPCZyRjVG', 'account_owner': None, 'amount': 500, 'authorized_date': None, 'category': ['Food and Drink', 'Restaurants', 'Fast Food'], 'category_id': '13005032', 'date': '2020-05-24', 'iso_currency_code': 'USD', 'location': {'address': None, 'city': None, 'country': None, 'lat': None, 'lon': None, 'postal_code': None, 'region': None, 'store_number': None}, 'merchant_name': 'KFC', 'name': 'KFC', 'payment_channel': 'in store', 'payment_meta': {'by_order_of': None, 'payee': None, 'payer': None, 'payment_method': None, 'payment_processor': None, 'ppd_id': None, 'reason': None, 'reference_number': None}, 'pending': False, 'pending_transaction_id': None, 'transaction_code': None, 'transaction_id': 'ygXnjlNK5BC5bDnjG4K7UxRree8z58FyzXv7W', 'transaction_type': 'place', 'unofficial_currency_code': None}, {'account_id': 'dKk6pVWX8QuM4bnWGgBKHkZR3L5wvPCZyRjVG', 'account_owner': None, 'amount': 500, 'authorized_date': None, 'category': ['Shops', 'Sporting Goods'], 'category_id': '19046000', 'date': '2020-05-24', 'iso_currency_code': 'USD', 'location': {'address': None, 'city': None, 'country': None, 'lat': None, 'lon': None, 'postal_code': None, 'region': None, 'store_number': None}, 'merchant_name': 'Madison Bicycle Shop', 'name': 'Madison Bicycle Shop', 'payment_channel': 'in store', 'payment_meta': {'by_order_of': None, 'payee': None, 'payer': None, 'payment_method': None, 'payment_processor': None, 'ppd_id': None, 'reason': None, 'reference_number': None}, 'pending': False, 'pending_transaction_id': None, 'transaction_code': None, 'transaction_id': 'mNGnqVRDbEt714aqNpWZU17jXX4DB4ULDd3V4', 'transaction_type': 'place', 'unofficial_currency_code': None}, {'account_id': '3arAqgjbdmu95nXRw7VDHaej85mQqEIqgED4M', 'account_owner': None, 'amount': 25, 'authorized_date': None, 'category': ['Payment', 'Credit Card'], 'category_id': '16001000', 'date': '2020-05-15', 'iso_currency_code': 'USD', 'location': {'address': None, 'city': None, 'country': None, 'lat': None, 'lon': None, 'postal_code': None, 'region': None, 'store_number': None}, 'merchant_name': None, 'name': 'CREDIT CARD 3333 PAYMENT *//', 'payment_channel': 'other', 'payment_meta': {'by_order_of': None, 'payee': None, 'payer': None, 'payment_method': None, 'payment_processor': None, 'ppd_id': None, 'reason': None, 'reference_number': None}, 'pending': False, 'pending_transaction_id': None, 'transaction_code': None, 'transaction_id': 'z8GX7qPr93CABgVk8967Umr4QzjxMBFo5L8JA', 'transaction_type': 'special', 'unofficial_currency_code': None}, {'account_id': 'B8MbQxGZ97CR91MEWVgdfjvdpPVLmMFwvgbmz', 'account_owner': None, 'amount': 5.4, 'authorized_date': None, 'category': ['Travel', 'Taxi'], 'category_id': '22016000', 'date': '2020-05-15', 'iso_currency_code': 'USD', 'location': {'address': None, 'city': None, 'country': None, 'lat': None, 'lon': None, 'postal_code': None, 'region': None, 'store_number': None}, 'merchant_name': 'Uber', 'name': 'Uber 063015 SF**POOL**', 'payment_channel': 'in store', 'payment_meta': {'by_order_of': None, 'payee': None, 'payer': None, 'payment_method': None, 'payment_processor': None, 'ppd_id': None, 'reason': None, 'reference_number': None}, 'pending': False, 'pending_transaction_id': None, 'transaction_code': None, 'transaction_id': 'WZ7DdGjMzru7ZbQ5Byp8UbLxRWGalEclk1ax4', 'transaction_type': 'special', 'unofficial_currency_code': None}, {'account_id': 'aA8bMVgX9jSkxoWvQwGph34q9zjJpWt76DByo', 'account_owner': None, 'amount': 5850, 'authorized_date': None, 'category': ['Transfer', 'Debit'], 'category_id': '21006000', 'date': '2020-05-14', 'iso_currency_code': 'USD', 'location': {'address': None, 'city': None, 'country': None, 'lat': None, 'lon': None, 'postal_code': None, 'region': None, 'store_number': None}, 'merchant_name': None, 'name': 'ACH Electronic CreditGUSTO PAY 123456', 'payment_channel': 'other', 'payment_meta': {'by_order_of': None, 'payee': None, 'payer': None, 'payment_method': 'ACH', 'payment_processor': None, 'ppd_id': None, 'reason': None, 'reference_number': None}, 'pending': False, 'pending_transaction_id': None, 'transaction_code': None, 'transaction_id': 'ojGnrVqD9Auap4mrjnN9UyWZmmadpacRd7xNA', 'transaction_type': 'special', 'unofficial_currency_code': None}, {'account_id': 'xoGnPV4q5zfgb5JPodDGH5Pd1wgWNDsnMe3rA', 'account_owner': None, 'amount': 1000, 'authorized_date': None, 'category': ['Transfer', 'Deposit'], 'category_id': '21007000', 'date': '2020-05-14', 'iso_currency_code': 'USD', 'location': {'address': None, 'city': None, 'country': None, 'lat': None, 'lon': None, 'postal_code': None, 'region': None, 'store_number': None}, 'merchant_name': None, 'name': 'CD DEPOSIT .INITIAL.', 'payment_channel': 'other', 'payment_meta': {'by_order_of': None, 'payee': None, 'payer': None, 'payment_method': None, 'payment_processor': None, 'ppd_id': None, 'reason': None, 'reference_number': None}, 'pending': False, 'pending_transaction_id': None, 'transaction_code': None, 'transaction_id': 'erGWoVAX1ZCXNAJjr8ElcoAqppe3zeuL45nq6', 'transaction_type': 'special', 'unofficial_currency_code': None}, {'account_id': 'dKk6pVWX8QuM4bnWGgBKHkZR3L5wvPCZyRjVG', 'account_owner': None, 'amount': 78.5, 'authorized_date': None, 'category': ['Recreation', 'Gyms and Fitness Centers'], 'category_id': '17018000', 'date': '2020-05-13', 'iso_currency_code': 'USD', 'location': {'address': None, 'city': None, 'country': None, 'lat': None, 'lon': None, 'postal_code': None, 'region': None, 'store_number': None}, 'merchant_name': 'Touchstone', 'name': 'Touchstone Climbing', 'payment_channel': 'in store', 'payment_meta': {'by_order_of': None, 'payee': None, 'payer': None, 'payment_method': None, 'payment_processor': None, 'ppd_id': None, 'reason': None, 'reference_number': None}, 'pending': False, 'pending_transaction_id': None, 'transaction_code': None, 'transaction_id': 'vLwn4VdDAKiqGre4mxWyUNX399JMqJuWMk79l', 'transaction_type': 'place', 'unofficial_currency_code': None}, {'account_id': 'B8MbQxGZ97CR91MEWVgdfjvdpPVLmMFwvgbmz', 'account_owner': None, 'amount': -500, 'authorized_date': None, 'category': ['Travel', 'Airlines and Aviation Services'], 'category_id': '22001000', 'date': '2020-05-13', 'iso_currency_code': 'USD', 'location': {'address': None, 'city': None, 'country': None, 'lat': None, 'lon': None, 'postal_code': None, 'region': None, 'store_number': None}, 'merchant_name': 'United Airlines', 'name': 'United Airlines', 'payment_channel': 'other', 'payment_meta': {'by_order_of': None, 'payee': None, 'payer': None, 'payment_method': None, 'payment_processor': None, 'ppd_id': None, 'reason': None, 'reference_number': None}, 'pending': False, 'pending_transaction_id': None, 'transaction_code': None, 'transaction_id': 'AgZEe3AVpjCbxmJZyDB5UZJoMAWzVBF1QAeMy', 'transaction_type': 'special', 'unofficial_currency_code': None}, {'account_id': 'B8MbQxGZ97CR91MEWVgdfjvdpPVLmMFwvgbmz', 'account_owner': None, 'amount': 12, 'authorized_date': None, 'category': ['Food and Drink', 'Restaurants', 'Fast Food'], 'category_id': '13005032', 'date': '2020-05-12', 'iso_currency_code': 'USD', 'location': {'address': None, 'city': None, 'country': None, 'lat': None, 'lon': None, 'postal_code': None, 'region': None, 'store_number': '3322'}, 'merchant_name': \"McDonald's\", 'name': \"McDonald's\", 'payment_channel': 'in store', 'payment_meta': {'by_order_of': None, 'payee': None, 'payer': None, 'payment_method': None, 'payment_processor': None, 'ppd_id': None, 'reason': None, 'reference_number': None}, 'pending': False, 'pending_transaction_id': None, 'transaction_code': None, 'transaction_id': 'GqgDpP9zo1Hwn8l5XvAzHwlE9KAjvgc15Pjwq', 'transaction_type': 'place', 'unofficial_currency_code': None}, {'account_id': 'B8MbQxGZ97CR91MEWVgdfjvdpPVLmMFwvgbmz', 'account_owner': None, 'amount': 4.33, 'authorized_date': None, 'category': ['Food and Drink', 'Restaurants', 'Coffee Shop'], 'category_id': '13005043', 'date': '2020-05-12', 'iso_currency_code': 'USD', 'location': {'address': None, 'city': None, 'country': None, 'lat': None, 'lon': None, 'postal_code': None, 'region': None, 'store_number': None}, 'merchant_name': 'Starbucks', 'name': 'Starbucks', 'payment_channel': 'in store', 'payment_meta': {'by_order_of': None, 'payee': None, 'payer': None, 'payment_method': None, 'payment_processor': None, 'ppd_id': None, 'reason': None, 'reference_number': None}, 'pending': False, 'pending_transaction_id': None, 'transaction_code': None, 'transaction_id': 'nPGnKVlDwWtELQ4KPepXUoA5Vd6Ngmi6jWmDJ', 'transaction_type': 'place', 'unofficial_currency_code': None}, {'account_id': 'B8MbQxGZ97CR91MEWVgdfjvdpPVLmMFwvgbmz', 'account_owner': None, 'amount': 89.4, 'authorized_date': None, 'category': ['Food and Drink', 'Restaurants'], 'category_id': '13005000', 'date': '2020-05-11', 'iso_currency_code': 'USD', 'location': {'address': None, 'city': None, 'country': None, 'lat': None, 'lon': None, 'postal_code': None, 'region': None, 'store_number': None}, 'merchant_name': 'Sparkfun', 'name': 'SparkFun', 'payment_channel': 'in store', 'payment_meta': {'by_order_of': None, 'payee': None, 'payer': None, 'payment_method': None, 'payment_processor': None, 'ppd_id': None, 'reason': None, 'reference_number': None}, 'pending': False, 'pending_transaction_id': None, 'transaction_code': None, 'transaction_id': 'blGW1VkXg7uzdrA4lXqZt4BaE15AJnfVXZvPP', 'transaction_type': 'place', 'unofficial_currency_code': None}, {'account_id': '3arAqgjbdmu95nXRw7VDHaej85mQqEIqgED4M', 'account_owner': None, 'amount': -4.22, 'authorized_date': None, 'category': ['Transfer', 'Credit'], 'category_id': '21005000', 'date': '2020-05-10', 'iso_currency_code': 'USD', 'location': {'address': None, 'city': None, 'country': None, 'lat': None, 'lon': None, 'postal_code': None, 'region': None, 'store_number': None}, 'merchant_name': None, 'name': 'INTRST PYMNT', 'payment_channel': 'other', 'payment_meta': {'by_order_of': None, 'payee': None, 'payer': None, 'payment_method': None, 'payment_processor': None, 'ppd_id': None, 'reason': None, 'reference_number': None}, 'pending': False, 'pending_transaction_id': None, 'transaction_code': None, 'transaction_id': 'B8MbQxGZ97CR91MEWVgdfjv7yAE3oqFwb8J6D', 'transaction_type': 'special', 'unofficial_currency_code': None}, {'account_id': 'dKk6pVWX8QuM4bnWGgBKHkZR3L5wvPCZyRjVG', 'account_owner': None, 'amount': 500, 'authorized_date': None, 'category': ['Travel', 'Airlines and Aviation Services'], 'category_id': '22001000', 'date': '2020-04-30', 'iso_currency_code': 'USD', 'location': {'address': None, 'city': None, 'country': None, 'lat': None, 'lon': None, 'postal_code': None, 'region': None, 'store_number': None}, 'merchant_name': 'United Airlines', 'name': 'United Airlines', 'payment_channel': 'in store', 'payment_meta': {'by_order_of': None, 'payee': None, 'payer': None, 'payment_method': None, 'payment_processor': None, 'ppd_id': None, 'reason': None, 'reference_number': None}, 'pending': False, 'pending_transaction_id': None, 'transaction_code': None, 'transaction_id': 'RPaDrgdMobtDneN5B9XpFqzmxxMjvMTRgb1mw', 'transaction_type': 'special', 'unofficial_currency_code': None}, {'account_id': 'B8MbQxGZ97CR91MEWVgdfjvdpPVLmMFwvgbmz', 'account_owner': None, 'amount': 6.33, 'authorized_date': None, 'category': ['Travel', 'Taxi'], 'category_id': '22016000', 'date': '2020-04-28', 'iso_currency_code': 'USD', 'location': {'address': None, 'city': None, 'country': None, 'lat': None, 'lon': None, 'postal_code': None, 'region': None, 'store_number': None}, 'merchant_name': 'Uber', 'name': 'Uber 072515 SF**POOL**', 'payment_channel': 'in store', 'payment_meta': {'by_order_of': None, 'payee': None, 'payer': None, 'payment_method': None, 'payment_processor': None, 'ppd_id': None, 'reason': None, 'reference_number': None}, 'pending': False, 'pending_transaction_id': None, 'transaction_code': None, 'transaction_id': 'mNGnqVRDbEt714aqNpWZU17rpaonx9FLDd3k8', 'transaction_type': 'special', 'unofficial_currency_code': None}, {'account_id': 'dKk6pVWX8QuM4bnWGgBKHkZR3L5wvPCZyRjVG', 'account_owner': None, 'amount': 500, 'authorized_date': None, 'category': ['Food and Drink', 'Restaurants'], 'category_id': '13005000', 'date': '2020-04-25', 'iso_currency_code': 'USD', 'location': {'address': None, 'city': None, 'country': None, 'lat': None, 'lon': None, 'postal_code': None, 'region': None, 'store_number': None}, 'merchant_name': 'Tectra Inc', 'name': 'Tectra Inc', 'payment_channel': 'in store', 'payment_meta': {'by_order_of': None, 'payee': None, 'payer': None, 'payment_method': None, 'payment_processor': None, 'ppd_id': None, 'reason': None, 'reference_number': None}, 'pending': False, 'pending_transaction_id': None, 'transaction_code': None, 'transaction_id': '6P3EzWQ6dKt4MR63eWglFRxlGG3763FgBXAVz', 'transaction_type': 'place', 'unofficial_currency_code': None}, {'account_id': 'dKk6pVWX8QuM4bnWGgBKHkZR3L5wvPCZyRjVG', 'account_owner': None, 'amount': 2078.5, 'authorized_date': None, 'category': ['Payment'], 'category_id': '16000000', 'date': '2020-04-24', 'iso_currency_code': 'USD', 'location': {'address': None, 'city': None, 'country': None, 'lat': None, 'lon': None, 'postal_code': None, 'region': None, 'store_number': None}, 'merchant_name': None, 'name': 'AUTOMATIC PAYMENT - THANK', 'payment_channel': 'other', 'payment_meta': {'by_order_of': None, 'payee': None, 'payer': None, 'payment_method': None, 'payment_processor': None, 'ppd_id': None, 'reason': None, 'reference_number': None}, 'pending': False, 'pending_transaction_id': None, 'transaction_code': None, 'transaction_id': 'VQjDxAPLrKIB36e5LQrgSVn8PPRk1RfWBPA3A', 'transaction_type': 'special', 'unofficial_currency_code': None}, {'account_id': 'dKk6pVWX8QuM4bnWGgBKHkZR3L5wvPCZyRjVG', 'account_owner': None, 'amount': 500, 'authorized_date': None, 'category': ['Food and Drink', 'Restaurants', 'Fast Food'], 'category_id': '13005032', 'date': '2020-04-24', 'iso_currency_code': 'USD', 'location': {'address': None, 'city': None, 'country': None, 'lat': None, 'lon': None, 'postal_code': None, 'region': None, 'store_number': None}, 'merchant_name': 'KFC', 'name': 'KFC', 'payment_channel': 'in store', 'payment_meta': {'by_order_of': None, 'payee': None, 'payer': None, 'payment_method': None, 'payment_processor': None, 'ppd_id': None, 'reason': None, 'reference_number': None}, 'pending': False, 'pending_transaction_id': None, 'transaction_code': None, 'transaction_id': 'DWLDMabqVQT1o7e5DqGVUP6DEE8eJ8cv5apKG', 'transaction_type': 'place', 'unofficial_currency_code': None}, {'account_id': 'dKk6pVWX8QuM4bnWGgBKHkZR3L5wvPCZyRjVG', 'account_owner': None, 'amount': 500, 'authorized_date': None, 'category': ['Shops', 'Sporting Goods'], 'category_id': '19046000', 'date': '2020-04-24', 'iso_currency_code': 'USD', 'location': {'address': None, 'city': None, 'country': None, 'lat': None, 'lon': None, 'postal_code': None, 'region': None, 'store_number': None}, 'merchant_name': 'Madison Bicycle Shop', 'name': 'Madison Bicycle Shop', 'payment_channel': 'in store', 'payment_meta': {'by_order_of': None, 'payee': None, 'payer': None, 'payment_method': None, 'payment_processor': None, 'ppd_id': None, 'reason': None, 'reference_number': None}, 'pending': False, 'pending_transaction_id': None, 'transaction_code': None, 'transaction_id': 'XMeWan7GBkCwaPZlj9o8HX4Jbb5gy5cdmnlwJ', 'transaction_type': 'place', 'unofficial_currency_code': None}, {'account_id': '3arAqgjbdmu95nXRw7VDHaej85mQqEIqgED4M', 'account_owner': None, 'amount': 25, 'authorized_date': None, 'category': ['Payment', 'Credit Card'], 'category_id': '16001000', 'date': '2020-04-15', 'iso_currency_code': 'USD', 'location': {'address': None, 'city': None, 'country': None, 'lat': None, 'lon': None, 'postal_code': None, 'region': None, 'store_number': None}, 'merchant_name': None, 'name': 'CREDIT CARD 3333 PAYMENT *//', 'payment_channel': 'other', 'payment_meta': {'by_order_of': None, 'payee': None, 'payer': None, 'payment_method': None, 'payment_processor': None, 'ppd_id': None, 'reason': None, 'reference_number': None}, 'pending': False, 'pending_transaction_id': None, 'transaction_code': None, 'transaction_id': '3arAqgjbdmu95nXRw7VDHaeXrAVxD7CqDnNK4', 'transaction_type': 'special', 'unofficial_currency_code': None}, {'account_id': 'B8MbQxGZ97CR91MEWVgdfjvdpPVLmMFwvgbmz', 'account_owner': None, 'amount': 5.4, 'authorized_date': None, 'category': ['Travel', 'Taxi'], 'category_id': '22016000', 'date': '2020-04-15', 'iso_currency_code': 'USD', 'location': {'address': None, 'city': None, 'country': None, 'lat': None, 'lon': None, 'postal_code': None, 'region': None, 'store_number': None}, 'merchant_name': 'Uber', 'name': 'Uber 063015 SF**POOL**', 'payment_channel': 'in store', 'payment_meta': {'by_order_of': None, 'payee': None, 'payer': None, 'payment_method': None, 'payment_processor': None, 'ppd_id': None, 'reason': None, 'reference_number': None}, 'pending': False, 'pending_transaction_id': None, 'transaction_code': None, 'transaction_id': 'ygXnjlNK5BC5bDnjG4K7UxR4Nk7AqltyzXvMv', 'transaction_type': 'special', 'unofficial_currency_code': None}, {'account_id': 'aA8bMVgX9jSkxoWvQwGph34q9zjJpWt76DByo', 'account_owner': None, 'amount': 5850, 'authorized_date': None, 'category': ['Transfer', 'Debit'], 'category_id': '21006000', 'date': '2020-04-14', 'iso_currency_code': 'USD', 'location': {'address': None, 'city': None, 'country': None, 'lat': None, 'lon': None, 'postal_code': None, 'region': None, 'store_number': None}, 'merchant_name': None, 'name': 'ACH Electronic CreditGUSTO PAY 123456', 'payment_channel': 'other', 'payment_meta': {'by_order_of': None, 'payee': None, 'payer': None, 'payment_method': 'ACH', 'payment_processor': None, 'ppd_id': None, 'reason': None, 'reference_number': None}, 'pending': False, 'pending_transaction_id': None, 'transaction_code': None, 'transaction_id': 'gBGW8VnXk1cmjdAeBQoySBLRNNDodDtgxnaKd', 'transaction_type': 'special', 'unofficial_currency_code': None}, {'account_id': 'xoGnPV4q5zfgb5JPodDGH5Pd1wgWNDsnMe3rA', 'account_owner': None, 'amount': 1000, 'authorized_date': None, 'category': ['Transfer', 'Deposit'], 'category_id': '21007000', 'date': '2020-04-14', 'iso_currency_code': 'USD', 'location': {'address': None, 'city': None, 'country': None, 'lat': None, 'lon': None, 'postal_code': None, 'region': None, 'store_number': None}, 'merchant_name': None, 'name': 'CD DEPOSIT .INITIAL.', 'payment_channel': 'other', 'payment_meta': {'by_order_of': None, 'payee': None, 'payer': None, 'payment_method': None, 'payment_processor': None, 'ppd_id': None, 'reason': None, 'reference_number': None}, 'pending': False, 'pending_transaction_id': None, 'transaction_code': None, 'transaction_id': 'QNdDKoxMmntkBJv57aVrhywD88LoZLcp57AqK', 'transaction_type': 'special', 'unofficial_currency_code': None}, {'account_id': 'dKk6pVWX8QuM4bnWGgBKHkZR3L5wvPCZyRjVG', 'account_owner': None, 'amount': 78.5, 'authorized_date': None, 'category': ['Recreation', 'Gyms and Fitness Centers'], 'category_id': '17018000', 'date': '2020-04-13', 'iso_currency_code': 'USD', 'location': {'address': None, 'city': None, 'country': None, 'lat': None, 'lon': None, 'postal_code': None, 'region': None, 'store_number': None}, 'merchant_name': 'Touchstone', 'name': 'Touchstone Climbing', 'payment_channel': 'in store', 'payment_meta': {'by_order_of': None, 'payee': None, 'payer': None, 'payment_method': None, 'payment_processor': None, 'ppd_id': None, 'reason': None, 'reference_number': None}, 'pending': False, 'pending_transaction_id': None, 'transaction_code': None, 'transaction_id': 'wpGmNValJrCznb1VpjqZtJx3MMLbBLurbodBD', 'transaction_type': 'place', 'unofficial_currency_code': None}, {'account_id': 'B8MbQxGZ97CR91MEWVgdfjvdpPVLmMFwvgbmz', 'account_owner': None, 'amount': -500, 'authorized_date': None, 'category': ['Travel', 'Airlines and Aviation Services'], 'category_id': '22001000', 'date': '2020-04-13', 'iso_currency_code': 'USD', 'location': {'address': None, 'city': None, 'country': None, 'lat': None, 'lon': None, 'postal_code': None, 'region': None, 'store_number': None}, 'merchant_name': 'United Airlines', 'name': 'United Airlines', 'payment_channel': 'other', 'payment_meta': {'by_order_of': None, 'payee': None, 'payer': None, 'payment_method': None, 'payment_processor': None, 'ppd_id': None, 'reason': None, 'reference_number': None}, 'pending': False, 'pending_transaction_id': None, 'transaction_code': None, 'transaction_id': 'MxzDAMr4okcKVZ357b8zUEoPL9pZQAs9JPZkw', 'transaction_type': 'special', 'unofficial_currency_code': None}, {'account_id': 'B8MbQxGZ97CR91MEWVgdfjvdpPVLmMFwvgbmz', 'account_owner': None, 'amount': 12, 'authorized_date': None, 'category': ['Food and Drink', 'Restaurants', 'Fast Food'], 'category_id': '13005032', 'date': '2020-04-12', 'iso_currency_code': 'USD', 'location': {'address': None, 'city': None, 'country': None, 'lat': None, 'lon': None, 'postal_code': None, 'region': None, 'store_number': '3322'}, 'merchant_name': \"McDonald's\", 'name': \"McDonald's\", 'payment_channel': 'in store', 'payment_meta': {'by_order_of': None, 'payee': None, 'payer': None, 'payment_method': None, 'payment_processor': None, 'ppd_id': None, 'reason': None, 'reference_number': None}, 'pending': False, 'pending_transaction_id': None, 'transaction_code': None, 'transaction_id': '1xqEGpNVmncV5vLqr4x6Hwnb85W7R3c58evVn', 'transaction_type': 'place', 'unofficial_currency_code': None}, {'account_id': 'B8MbQxGZ97CR91MEWVgdfjvdpPVLmMFwvgbmz', 'account_owner': None, 'amount': 4.33, 'authorized_date': None, 'category': ['Food and Drink', 'Restaurants', 'Coffee Shop'], 'category_id': '13005043', 'date': '2020-04-12', 'iso_currency_code': 'USD', 'location': {'address': None, 'city': None, 'country': None, 'lat': None, 'lon': None, 'postal_code': None, 'region': None, 'store_number': None}, 'merchant_name': 'Starbucks', 'name': 'Starbucks', 'payment_channel': 'in store', 'payment_meta': {'by_order_of': None, 'payee': None, 'payer': None, 'payment_method': None, 'payment_processor': None, 'ppd_id': None, 'reason': None, 'reference_number': None}, 'pending': False, 'pending_transaction_id': None, 'transaction_code': None, 'transaction_id': 'L3rDWZKao8hAxwB5y87XUxBwXbKzlrtPXpzBV', 'transaction_type': 'place', 'unofficial_currency_code': None}, {'account_id': 'B8MbQxGZ97CR91MEWVgdfjvdpPVLmMFwvgbmz', 'account_owner': None, 'amount': 89.4, 'authorized_date': None, 'category': ['Food and Drink', 'Restaurants'], 'category_id': '13005000', 'date': '2020-04-11', 'iso_currency_code': 'USD', 'location': {'address': None, 'city': None, 'country': None, 'lat': None, 'lon': None, 'postal_code': None, 'region': None, 'store_number': None}, 'merchant_name': 'Sparkfun', 'name': 'SparkFun', 'payment_channel': 'in store', 'payment_meta': {'by_order_of': None, 'payee': None, 'payer': None, 'payment_method': None, 'payment_processor': None, 'ppd_id': None, 'reason': None, 'reference_number': None}, 'pending': False, 'pending_transaction_id': None, 'transaction_code': None, 'transaction_id': 'p7ynzVKD9GCvo4AzGZ5ginePjbVNgpuLZVmeP', 'transaction_type': 'place', 'unofficial_currency_code': None}, {'account_id': '3arAqgjbdmu95nXRw7VDHaej85mQqEIqgED4M', 'account_owner': None, 'amount': -4.22, 'authorized_date': None, 'category': ['Transfer', 'Credit'], 'category_id': '21005000', 'date': '2020-04-10', 'iso_currency_code': 'USD', 'location': {'address': None, 'city': None, 'country': None, 'lat': None, 'lon': None, 'postal_code': None, 'region': None, 'store_number': None}, 'merchant_name': None, 'name': 'INTRST PYMNT', 'payment_channel': 'other', 'payment_meta': {'by_order_of': None, 'payee': None, 'payer': None, 'payment_method': None, 'payment_processor': None, 'ppd_id': None, 'reason': None, 'reference_number': None}, 'pending': False, 'pending_transaction_id': None, 'transaction_code': None, 'transaction_id': 'xoGnPV4q5zfgb5JPodDGH5P9LK6BGAHn3VWpl', 'transaction_type': 'special', 'unofficial_currency_code': None}]}\n"
     ]
    }
   ],
   "source": [
    "# Set the start and end date 90 days from today\n",
    "start_date = \"{:%Y-%m-%d}\".format(datetime.datetime.now() + datetime.timedelta(-90))\n",
    "end_date = \"{:%Y-%m-%d}\".format(datetime.datetime.now()) \n",
    "# Retrieve the transactions for the last 90 days\n",
    "transactions_response = client.Transactions.get(access_token, start_date, end_date)\n",
    "\n",
    "# Print the transactions\n",
    "print(transactions_response)"
   ]
  },
  {
   "cell_type": "markdown",
   "metadata": {},
   "source": [
    "### 2. Print the categories for each transaction"
   ]
  },
  {
   "cell_type": "code",
   "execution_count": 36,
   "metadata": {},
   "outputs": [
    {
     "name": "stdout",
     "output_type": "stream",
     "text": [
      "[\n",
      "    \"Transfer\",\n",
      "    \"Credit\"\n",
      "]\n",
      "[\n",
      "    \"Transfer\",\n",
      "    \"Credit\"\n",
      "]\n",
      "[\n",
      "    \"Travel\",\n",
      "    \"Airlines and Aviation Services\"\n",
      "]\n",
      "[\n",
      "    \"Travel\",\n",
      "    \"Airlines and Aviation Services\"\n",
      "]\n",
      "[\n",
      "    \"Travel\",\n",
      "    \"Taxi\"\n",
      "]\n",
      "[\n",
      "    \"Travel\",\n",
      "    \"Taxi\"\n",
      "]\n",
      "[\n",
      "    \"Food and Drink\",\n",
      "    \"Restaurants\"\n",
      "]\n",
      "[\n",
      "    \"Food and Drink\",\n",
      "    \"Restaurants\"\n",
      "]\n",
      "[\n",
      "    \"Payment\"\n",
      "]\n",
      "[\n",
      "    \"Payment\"\n",
      "]\n",
      "[\n",
      "    \"Food and Drink\",\n",
      "    \"Restaurants\",\n",
      "    \"Fast Food\"\n",
      "]\n",
      "[\n",
      "    \"Food and Drink\",\n",
      "    \"Restaurants\",\n",
      "    \"Fast Food\"\n",
      "]\n",
      "[\n",
      "    \"Shops\",\n",
      "    \"Sporting Goods\"\n",
      "]\n",
      "[\n",
      "    \"Shops\",\n",
      "    \"Sporting Goods\"\n",
      "]\n",
      "[\n",
      "    \"Payment\",\n",
      "    \"Credit Card\"\n",
      "]\n",
      "[\n",
      "    \"Payment\",\n",
      "    \"Credit Card\"\n",
      "]\n",
      "[\n",
      "    \"Travel\",\n",
      "    \"Taxi\"\n",
      "]\n",
      "[\n",
      "    \"Travel\",\n",
      "    \"Taxi\"\n",
      "]\n",
      "[\n",
      "    \"Transfer\",\n",
      "    \"Debit\"\n",
      "]\n",
      "[\n",
      "    \"Transfer\",\n",
      "    \"Debit\"\n",
      "]\n",
      "[\n",
      "    \"Transfer\",\n",
      "    \"Deposit\"\n",
      "]\n",
      "[\n",
      "    \"Transfer\",\n",
      "    \"Deposit\"\n",
      "]\n",
      "[\n",
      "    \"Recreation\",\n",
      "    \"Gyms and Fitness Centers\"\n",
      "]\n",
      "[\n",
      "    \"Recreation\",\n",
      "    \"Gyms and Fitness Centers\"\n",
      "]\n",
      "[\n",
      "    \"Travel\",\n",
      "    \"Airlines and Aviation Services\"\n",
      "]\n",
      "[\n",
      "    \"Travel\",\n",
      "    \"Airlines and Aviation Services\"\n",
      "]\n",
      "[\n",
      "    \"Food and Drink\",\n",
      "    \"Restaurants\",\n",
      "    \"Fast Food\"\n",
      "]\n",
      "[\n",
      "    \"Food and Drink\",\n",
      "    \"Restaurants\",\n",
      "    \"Fast Food\"\n",
      "]\n",
      "[\n",
      "    \"Food and Drink\",\n",
      "    \"Restaurants\",\n",
      "    \"Coffee Shop\"\n",
      "]\n",
      "[\n",
      "    \"Food and Drink\",\n",
      "    \"Restaurants\",\n",
      "    \"Coffee Shop\"\n",
      "]\n",
      "[\n",
      "    \"Food and Drink\",\n",
      "    \"Restaurants\"\n",
      "]\n",
      "[\n",
      "    \"Food and Drink\",\n",
      "    \"Restaurants\"\n",
      "]\n",
      "[\n",
      "    \"Transfer\",\n",
      "    \"Credit\"\n",
      "]\n",
      "[\n",
      "    \"Transfer\",\n",
      "    \"Credit\"\n",
      "]\n",
      "[\n",
      "    \"Travel\",\n",
      "    \"Airlines and Aviation Services\"\n",
      "]\n",
      "[\n",
      "    \"Travel\",\n",
      "    \"Taxi\"\n",
      "]\n",
      "[\n",
      "    \"Food and Drink\",\n",
      "    \"Restaurants\"\n",
      "]\n",
      "[\n",
      "    \"Payment\"\n",
      "]\n",
      "[\n",
      "    \"Food and Drink\",\n",
      "    \"Restaurants\",\n",
      "    \"Fast Food\"\n",
      "]\n",
      "[\n",
      "    \"Shops\",\n",
      "    \"Sporting Goods\"\n",
      "]\n",
      "[\n",
      "    \"Payment\",\n",
      "    \"Credit Card\"\n",
      "]\n",
      "[\n",
      "    \"Travel\",\n",
      "    \"Taxi\"\n",
      "]\n",
      "[\n",
      "    \"Transfer\",\n",
      "    \"Debit\"\n",
      "]\n",
      "[\n",
      "    \"Transfer\",\n",
      "    \"Deposit\"\n",
      "]\n",
      "[\n",
      "    \"Recreation\",\n",
      "    \"Gyms and Fitness Centers\"\n",
      "]\n",
      "[\n",
      "    \"Travel\",\n",
      "    \"Airlines and Aviation Services\"\n",
      "]\n",
      "[\n",
      "    \"Food and Drink\",\n",
      "    \"Restaurants\",\n",
      "    \"Fast Food\"\n",
      "]\n",
      "[\n",
      "    \"Food and Drink\",\n",
      "    \"Restaurants\",\n",
      "    \"Coffee Shop\"\n",
      "]\n",
      "[\n",
      "    \"Food and Drink\",\n",
      "    \"Restaurants\"\n",
      "]\n",
      "[\n",
      "    \"Transfer\",\n",
      "    \"Credit\"\n",
      "]\n",
      "[\n",
      "    \"Travel\",\n",
      "    \"Airlines and Aviation Services\"\n",
      "]\n",
      "[\n",
      "    \"Travel\",\n",
      "    \"Taxi\"\n",
      "]\n",
      "[\n",
      "    \"Food and Drink\",\n",
      "    \"Restaurants\"\n",
      "]\n",
      "[\n",
      "    \"Payment\"\n",
      "]\n",
      "[\n",
      "    \"Food and Drink\",\n",
      "    \"Restaurants\",\n",
      "    \"Fast Food\"\n",
      "]\n",
      "[\n",
      "    \"Shops\",\n",
      "    \"Sporting Goods\"\n",
      "]\n",
      "[\n",
      "    \"Payment\",\n",
      "    \"Credit Card\"\n",
      "]\n",
      "[\n",
      "    \"Travel\",\n",
      "    \"Taxi\"\n",
      "]\n",
      "[\n",
      "    \"Transfer\",\n",
      "    \"Debit\"\n",
      "]\n",
      "[\n",
      "    \"Transfer\",\n",
      "    \"Deposit\"\n",
      "]\n",
      "[\n",
      "    \"Recreation\",\n",
      "    \"Gyms and Fitness Centers\"\n",
      "]\n",
      "[\n",
      "    \"Travel\",\n",
      "    \"Airlines and Aviation Services\"\n",
      "]\n",
      "[\n",
      "    \"Food and Drink\",\n",
      "    \"Restaurants\",\n",
      "    \"Fast Food\"\n",
      "]\n",
      "[\n",
      "    \"Food and Drink\",\n",
      "    \"Restaurants\",\n",
      "    \"Coffee Shop\"\n",
      "]\n",
      "[\n",
      "    \"Food and Drink\",\n",
      "    \"Restaurants\"\n",
      "]\n",
      "[\n",
      "    \"Transfer\",\n",
      "    \"Credit\"\n",
      "]\n"
     ]
    }
   ],
   "source": [
    "# Create a for-loop to print the categories for each transaction\n",
    "for transactions in transactions_response['transactions']:\n",
    "    print(json.dumps(transactions['category'], indent=4, sort_keys=True))"
   ]
  },
  {
   "cell_type": "markdown",
   "metadata": {},
   "source": [
    "### 3. Create a new DataFrame using the following fields from the JSON transaction data: `date`, `name`, `amount`, `category`. \n",
    "\n",
    "(For categories with more than one label, just use the first category label in the list)"
   ]
  },
  {
   "cell_type": "code",
   "execution_count": 37,
   "metadata": {},
   "outputs": [
    {
     "data": {
      "text/html": [
       "<div>\n",
       "<style scoped>\n",
       "    .dataframe tbody tr th:only-of-type {\n",
       "        vertical-align: middle;\n",
       "    }\n",
       "\n",
       "    .dataframe tbody tr th {\n",
       "        vertical-align: top;\n",
       "    }\n",
       "\n",
       "    .dataframe thead th {\n",
       "        text-align: right;\n",
       "    }\n",
       "</style>\n",
       "<table border=\"1\" class=\"dataframe\">\n",
       "  <thead>\n",
       "    <tr style=\"text-align: right;\">\n",
       "      <th></th>\n",
       "      <th>date</th>\n",
       "      <th>name</th>\n",
       "      <th>amount</th>\n",
       "      <th>category</th>\n",
       "    </tr>\n",
       "  </thead>\n",
       "  <tbody>\n",
       "    <tr>\n",
       "      <th>0</th>\n",
       "      <td>2020-07-09</td>\n",
       "      <td>INTRST PYMNT</td>\n",
       "      <td>-4.22</td>\n",
       "      <td>Transfer</td>\n",
       "    </tr>\n",
       "    <tr>\n",
       "      <th>1</th>\n",
       "      <td>2020-07-09</td>\n",
       "      <td>INTRST PYMNT</td>\n",
       "      <td>-4.22</td>\n",
       "      <td>Transfer</td>\n",
       "    </tr>\n",
       "    <tr>\n",
       "      <th>2</th>\n",
       "      <td>2020-06-29</td>\n",
       "      <td>United Airlines</td>\n",
       "      <td>500.00</td>\n",
       "      <td>Travel</td>\n",
       "    </tr>\n",
       "    <tr>\n",
       "      <th>3</th>\n",
       "      <td>2020-06-29</td>\n",
       "      <td>United Airlines</td>\n",
       "      <td>500.00</td>\n",
       "      <td>Travel</td>\n",
       "    </tr>\n",
       "    <tr>\n",
       "      <th>4</th>\n",
       "      <td>2020-06-27</td>\n",
       "      <td>Uber 072515 SF**POOL**</td>\n",
       "      <td>6.33</td>\n",
       "      <td>Travel</td>\n",
       "    </tr>\n",
       "    <tr>\n",
       "      <th>5</th>\n",
       "      <td>2020-06-27</td>\n",
       "      <td>Uber 072515 SF**POOL**</td>\n",
       "      <td>6.33</td>\n",
       "      <td>Travel</td>\n",
       "    </tr>\n",
       "    <tr>\n",
       "      <th>6</th>\n",
       "      <td>2020-06-24</td>\n",
       "      <td>Tectra Inc</td>\n",
       "      <td>500.00</td>\n",
       "      <td>Food and Drink</td>\n",
       "    </tr>\n",
       "    <tr>\n",
       "      <th>7</th>\n",
       "      <td>2020-06-24</td>\n",
       "      <td>Tectra Inc</td>\n",
       "      <td>500.00</td>\n",
       "      <td>Food and Drink</td>\n",
       "    </tr>\n",
       "    <tr>\n",
       "      <th>8</th>\n",
       "      <td>2020-06-23</td>\n",
       "      <td>AUTOMATIC PAYMENT - THANK</td>\n",
       "      <td>2078.50</td>\n",
       "      <td>Payment</td>\n",
       "    </tr>\n",
       "    <tr>\n",
       "      <th>9</th>\n",
       "      <td>2020-06-23</td>\n",
       "      <td>AUTOMATIC PAYMENT - THANK</td>\n",
       "      <td>2078.50</td>\n",
       "      <td>Payment</td>\n",
       "    </tr>\n",
       "  </tbody>\n",
       "</table>\n",
       "</div>"
      ],
      "text/plain": [
       "         date                       name   amount        category\n",
       "0  2020-07-09               INTRST PYMNT    -4.22        Transfer\n",
       "1  2020-07-09               INTRST PYMNT    -4.22        Transfer\n",
       "2  2020-06-29            United Airlines   500.00          Travel\n",
       "3  2020-06-29            United Airlines   500.00          Travel\n",
       "4  2020-06-27     Uber 072515 SF**POOL**     6.33          Travel\n",
       "5  2020-06-27     Uber 072515 SF**POOL**     6.33          Travel\n",
       "6  2020-06-24                 Tectra Inc   500.00  Food and Drink\n",
       "7  2020-06-24                 Tectra Inc   500.00  Food and Drink\n",
       "8  2020-06-23  AUTOMATIC PAYMENT - THANK  2078.50         Payment\n",
       "9  2020-06-23  AUTOMATIC PAYMENT - THANK  2078.50         Payment"
      ]
     },
     "execution_count": 37,
     "metadata": {},
     "output_type": "execute_result"
    }
   ],
   "source": [
    "# Define an empty DataFrame and set the columns as date, name, amount, and category\n",
    "all_trans_df = pd.DataFrame(columns= ['date', 'name', 'amount', 'category'])\n",
    "\n",
    "# Retrieve all the transactions\n",
    "# Populate the transactions DataFrame with the transactions data\n",
    "for transactions in transactions_response['transactions']:\n",
    "    all_trans_df = all_trans_df.append({\n",
    "                'date': transactions['date'], \n",
    "                'name': transactions['name'], \n",
    "                'amount': transactions['amount'], \n",
    "                'category':transactions['category'][0]}, \n",
    "                ignore_index=True)\n",
    "\n",
    "# Display sample data from the DataFrame    \n",
    "all_trans_df.head(10)"
   ]
  },
  {
   "cell_type": "markdown",
   "metadata": {},
   "source": [
    "### 4. Convert the data types to the appropriate types \n",
    "\n",
    "(i.e. datetimeindex for the date and float for the amount)"
   ]
  },
  {
   "cell_type": "code",
   "execution_count": 38,
   "metadata": {},
   "outputs": [
    {
     "data": {
      "text/plain": [
       "date         object\n",
       "name         object\n",
       "amount      float64\n",
       "category     object\n",
       "dtype: object"
      ]
     },
     "execution_count": 38,
     "metadata": {},
     "output_type": "execute_result"
    }
   ],
   "source": [
    "# Display data types\n",
    "all_trans_df.dtypes"
   ]
  },
  {
   "cell_type": "code",
   "execution_count": 39,
   "metadata": {},
   "outputs": [
    {
     "data": {
      "text/plain": [
       "date        datetime64[ns]\n",
       "name                object\n",
       "amount             float64\n",
       "category            object\n",
       "dtype: object"
      ]
     },
     "execution_count": 39,
     "metadata": {},
     "output_type": "execute_result"
    }
   ],
   "source": [
    "# Make any required data type transformation\n",
    "all_trans_df['date'] = pd.to_datetime(all_trans_df['date'])\n",
    "all_trans_df['amount'] = all_trans_df['amount'].astype(float)\n",
    "all_trans_df.dtypes"
   ]
  },
  {
   "cell_type": "code",
   "execution_count": 40,
   "metadata": {},
   "outputs": [
    {
     "data": {
      "text/html": [
       "<div>\n",
       "<style scoped>\n",
       "    .dataframe tbody tr th:only-of-type {\n",
       "        vertical-align: middle;\n",
       "    }\n",
       "\n",
       "    .dataframe tbody tr th {\n",
       "        vertical-align: top;\n",
       "    }\n",
       "\n",
       "    .dataframe thead th {\n",
       "        text-align: right;\n",
       "    }\n",
       "</style>\n",
       "<table border=\"1\" class=\"dataframe\">\n",
       "  <thead>\n",
       "    <tr style=\"text-align: right;\">\n",
       "      <th></th>\n",
       "      <th>name</th>\n",
       "      <th>amount</th>\n",
       "      <th>category</th>\n",
       "    </tr>\n",
       "    <tr>\n",
       "      <th>date</th>\n",
       "      <th></th>\n",
       "      <th></th>\n",
       "      <th></th>\n",
       "    </tr>\n",
       "  </thead>\n",
       "  <tbody>\n",
       "    <tr>\n",
       "      <th>2020-04-15</th>\n",
       "      <td>CREDIT CARD 3333 PAYMENT *//</td>\n",
       "      <td>25.00</td>\n",
       "      <td>Payment</td>\n",
       "    </tr>\n",
       "    <tr>\n",
       "      <th>2020-04-15</th>\n",
       "      <td>Uber 063015 SF**POOL**</td>\n",
       "      <td>5.40</td>\n",
       "      <td>Travel</td>\n",
       "    </tr>\n",
       "    <tr>\n",
       "      <th>2020-04-14</th>\n",
       "      <td>ACH Electronic CreditGUSTO PAY 123456</td>\n",
       "      <td>5850.00</td>\n",
       "      <td>Transfer</td>\n",
       "    </tr>\n",
       "    <tr>\n",
       "      <th>2020-04-14</th>\n",
       "      <td>CD DEPOSIT .INITIAL.</td>\n",
       "      <td>1000.00</td>\n",
       "      <td>Transfer</td>\n",
       "    </tr>\n",
       "    <tr>\n",
       "      <th>2020-04-13</th>\n",
       "      <td>Touchstone Climbing</td>\n",
       "      <td>78.50</td>\n",
       "      <td>Recreation</td>\n",
       "    </tr>\n",
       "    <tr>\n",
       "      <th>2020-04-13</th>\n",
       "      <td>United Airlines</td>\n",
       "      <td>-500.00</td>\n",
       "      <td>Travel</td>\n",
       "    </tr>\n",
       "    <tr>\n",
       "      <th>2020-04-12</th>\n",
       "      <td>McDonald's</td>\n",
       "      <td>12.00</td>\n",
       "      <td>Food and Drink</td>\n",
       "    </tr>\n",
       "    <tr>\n",
       "      <th>2020-04-12</th>\n",
       "      <td>Starbucks</td>\n",
       "      <td>4.33</td>\n",
       "      <td>Food and Drink</td>\n",
       "    </tr>\n",
       "    <tr>\n",
       "      <th>2020-04-11</th>\n",
       "      <td>SparkFun</td>\n",
       "      <td>89.40</td>\n",
       "      <td>Food and Drink</td>\n",
       "    </tr>\n",
       "    <tr>\n",
       "      <th>2020-04-10</th>\n",
       "      <td>INTRST PYMNT</td>\n",
       "      <td>-4.22</td>\n",
       "      <td>Transfer</td>\n",
       "    </tr>\n",
       "  </tbody>\n",
       "</table>\n",
       "</div>"
      ],
      "text/plain": [
       "                                             name   amount        category\n",
       "date                                                                      \n",
       "2020-04-15           CREDIT CARD 3333 PAYMENT *//    25.00         Payment\n",
       "2020-04-15                 Uber 063015 SF**POOL**     5.40          Travel\n",
       "2020-04-14  ACH Electronic CreditGUSTO PAY 123456  5850.00        Transfer\n",
       "2020-04-14                   CD DEPOSIT .INITIAL.  1000.00        Transfer\n",
       "2020-04-13                    Touchstone Climbing    78.50      Recreation\n",
       "2020-04-13                        United Airlines  -500.00          Travel\n",
       "2020-04-12                             McDonald's    12.00  Food and Drink\n",
       "2020-04-12                              Starbucks     4.33  Food and Drink\n",
       "2020-04-11                               SparkFun    89.40  Food and Drink\n",
       "2020-04-10                           INTRST PYMNT    -4.22        Transfer"
      ]
     },
     "execution_count": 40,
     "metadata": {},
     "output_type": "execute_result"
    }
   ],
   "source": [
    "# Set the date column as index\n",
    "all_trans_df = all_trans_df.set_index('date')\n",
    "\n",
    "# Display sample data\n",
    "all_trans_df.tail(10)"
   ]
  },
  {
   "cell_type": "markdown",
   "metadata": {},
   "source": [
    "---"
   ]
  },
  {
   "cell_type": "markdown",
   "metadata": {},
   "source": [
    "# Income Analysis with Plaid\n",
    "\n",
    "In this section, you will use the Plaid Sandbox to complete the following:\n",
    "\n",
    "1. Determine the previous year's gross income and print the results\n",
    "\n",
    "2. Determine the current monthly income and print the results\n",
    "\n",
    "3. Determine the projected yearly income and print the results"
   ]
  },
  {
   "cell_type": "code",
   "execution_count": 41,
   "metadata": {},
   "outputs": [
    {
     "data": {
      "text/plain": [
       "{'income': {'income_streams': [{'confidence': 0.99,\n",
       "    'days': 690,\n",
       "    'monthly_income': 500,\n",
       "    'name': 'UNITED AIRLINES'}],\n",
       "  'last_year_income': 6000,\n",
       "  'last_year_income_before_tax': 7285,\n",
       "  'max_number_of_overlapping_income_streams': 1,\n",
       "  'number_of_income_streams': 1,\n",
       "  'projected_yearly_income': 6085,\n",
       "  'projected_yearly_income_before_tax': 7389},\n",
       " 'request_id': 'pfQVUd3RZquI24a'}"
      ]
     },
     "execution_count": 41,
     "metadata": {},
     "output_type": "execute_result"
    }
   ],
   "source": [
    "# Fetch de income data\n",
    "income_data = client.Income.get(access_token)\n",
    "\n",
    "# Print the income data\n",
    "income_data"
   ]
  },
  {
   "cell_type": "code",
   "execution_count": 42,
   "metadata": {},
   "outputs": [
    {
     "name": "stdout",
     "output_type": "stream",
     "text": [
      "Previous Year's Gross Income is :  7285\n"
     ]
    }
   ],
   "source": [
    "# Determine the previous year's gross income and print the results\n",
    "print((f\"Previous Year's Gross Income is : \"), income_data[\"income\"][\"last_year_income_before_tax\"])"
   ]
  },
  {
   "cell_type": "code",
   "execution_count": 43,
   "metadata": {},
   "outputs": [
    {
     "name": "stdout",
     "output_type": "stream",
     "text": [
      "Monthly Income is : 500\n"
     ]
    }
   ],
   "source": [
    "# Determine the current monthly income and print the results\n",
    "mon_income = income_data[\"income\"][\"income_streams\"]\n",
    "print(f\"Monthly Income is : {mon_income[0]['monthly_income']}\")\n",
    "#checking the values of income stream data\n",
    "#print(mon_income, mon_income[0])\n",
    "#checking the type\n",
    "#type(mon_income) # this is a list\n",
    "#type(mon_income[0]) # this is a dict"
   ]
  },
  {
   "cell_type": "code",
   "execution_count": 44,
   "metadata": {},
   "outputs": [
    {
     "name": "stdout",
     "output_type": "stream",
     "text": [
      "Projected Yearly Gross Income is :  7389\n"
     ]
    }
   ],
   "source": [
    "# Determine the projected yearly income and print the results\n",
    "print((f\"Projected Yearly Gross Income is : \"), income_data[\"income\"][\"projected_yearly_income_before_tax\"])"
   ]
  },
  {
   "cell_type": "markdown",
   "metadata": {},
   "source": [
    "---"
   ]
  },
  {
   "cell_type": "markdown",
   "metadata": {},
   "source": [
    "# Budget Analysis\n",
    "In this section, you will use the transactions DataFrame to analyze the customer's budget\n",
    "\n",
    "1. Calculate the total spending per category and print the results (Hint: groupby or count transactions per category)\n",
    "\n",
    "2. Generate a bar chart with the number of transactions for each category\n",
    "\n",
    "3. Calulate the expenses per month\n",
    "\n",
    "4. Plot the total expenses per month"
   ]
  },
  {
   "cell_type": "markdown",
   "metadata": {},
   "source": [
    "### Calculate the expenses per category"
   ]
  },
  {
   "cell_type": "code",
   "execution_count": 45,
   "metadata": {},
   "outputs": [
    {
     "data": {
      "text/plain": [
       "category\n",
       "Food and Drink     4422.92\n",
       "Payment            8414.00\n",
       "Recreation          314.00\n",
       "Shops              2000.00\n",
       "Transfer          27374.68\n",
       "Travel               46.92\n",
       "Name: amount, dtype: float64"
      ]
     },
     "execution_count": 45,
     "metadata": {},
     "output_type": "execute_result"
    }
   ],
   "source": [
    "# Compute the total expenses per category\n",
    "expense_per_category = all_trans_df.groupby(\"category\")[\"amount\"].sum()\n",
    "# Display the expenses per category\n",
    "expense_per_category"
   ]
  },
  {
   "cell_type": "code",
   "execution_count": 46,
   "metadata": {},
   "outputs": [
    {
     "data": {
      "text/plain": [
       "<matplotlib.axes._subplots.AxesSubplot at 0x287c0182cc8>"
      ]
     },
     "execution_count": 46,
     "metadata": {},
     "output_type": "execute_result"
    },
    {
     "data": {
      "image/png": "[encoded data removed]",
      "text/plain": [
       "<Figure size 432x288 with 1 Axes>"
      ]
     },
     "metadata": {},
     "output_type": "display_data"
    }
   ],
   "source": [
    "# Create a spending categories pie chart.\n",
    "expense_per_category.plot(kind=\"pie\", title=\"Spending Categories\")"
   ]
  },
  {
   "cell_type": "markdown",
   "metadata": {},
   "source": [
    "### Calculate the expenses per month"
   ]
  },
  {
   "cell_type": "code",
   "execution_count": 47,
   "metadata": {},
   "outputs": [
    {
     "data": {
      "text/html": [
       "<div>\n",
       "<style scoped>\n",
       "    .dataframe tbody tr th:only-of-type {\n",
       "        vertical-align: middle;\n",
       "    }\n",
       "\n",
       "    .dataframe tbody tr th {\n",
       "        vertical-align: top;\n",
       "    }\n",
       "\n",
       "    .dataframe thead th {\n",
       "        text-align: right;\n",
       "    }\n",
       "</style>\n",
       "<table border=\"1\" class=\"dataframe\">\n",
       "  <thead>\n",
       "    <tr style=\"text-align: right;\">\n",
       "      <th></th>\n",
       "      <th>amount</th>\n",
       "    </tr>\n",
       "    <tr>\n",
       "      <th>date</th>\n",
       "      <th></th>\n",
       "    </tr>\n",
       "  </thead>\n",
       "  <tbody>\n",
       "    <tr>\n",
       "      <th>4</th>\n",
       "      <td>10645.24</td>\n",
       "    </tr>\n",
       "    <tr>\n",
       "      <th>5</th>\n",
       "      <td>10645.24</td>\n",
       "    </tr>\n",
       "    <tr>\n",
       "      <th>6</th>\n",
       "      <td>21290.48</td>\n",
       "    </tr>\n",
       "    <tr>\n",
       "      <th>7</th>\n",
       "      <td>-8.44</td>\n",
       "    </tr>\n",
       "  </tbody>\n",
       "</table>\n",
       "</div>"
      ],
      "text/plain": [
       "        amount\n",
       "date          \n",
       "4     10645.24\n",
       "5     10645.24\n",
       "6     21290.48\n",
       "7        -8.44"
      ]
     },
     "execution_count": 47,
     "metadata": {},
     "output_type": "execute_result"
    }
   ],
   "source": [
    "# Create a DataFrame with the total expenses\n",
    "expense_per_month = all_trans_df.groupby(by=[all_trans_df.index.month]).sum()\n",
    "# Display sample data\n",
    "expense_per_month"
   ]
  },
  {
   "cell_type": "code",
   "execution_count": 48,
   "metadata": {},
   "outputs": [
    {
     "data": {
      "text/plain": [
       "<matplotlib.axes._subplots.AxesSubplot at 0x287c02b4c88>"
      ]
     },
     "execution_count": 48,
     "metadata": {},
     "output_type": "execute_result"
    },
    {
     "data": {
      "image/png": "[encoded data removed]",
      "text/plain": [
       "<Figure size 432x288 with 1 Axes>"
      ]
     },
     "metadata": {
      "needs_background": "light"
     },
     "output_type": "display_data"
    }
   ],
   "source": [
    "# Create a spending per month bar chart\n",
    "expense_per_month.plot(kind=\"bar\", title=\"Spending Per Month\")"
   ]
  }
 ],
 "metadata": {
  "kernelspec": {
   "display_name": "Python 3",
   "language": "python",
   "name": "python3"
  },
  "language_info": {
   "codemirror_mode": {
    "name": "ipython",
    "version": 3
   },
   "file_extension": ".py",
   "mimetype": "text/x-python",
   "name": "python",
   "nbconvert_exporter": "python",
   "pygments_lexer": "ipython3",
   "version": "3.7.6"
  }
 },
 "nbformat": 4,
 "nbformat_minor": 4
}
